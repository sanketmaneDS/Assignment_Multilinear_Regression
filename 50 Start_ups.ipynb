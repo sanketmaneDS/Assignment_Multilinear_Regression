{
 "cells": [
  {
   "cell_type": "markdown",
   "id": "df66c704",
   "metadata": {},
   "source": [
    "# 50 Start Ups"
   ]
  },
  {
   "cell_type": "markdown",
   "id": "802d0a5f",
   "metadata": {},
   "source": [
    "Prepare a prediction model for profit of 50_startups data. Do transformations for getting better predictions of profit and make a table containing R^2 value for each prepared model.\n",
    "\n",
    "\n",
    "R&D Spend -- Research and devolop spend in the past few years\n",
    "\n",
    "Administration -- spend on administration in the past few years\n",
    "\n",
    "Marketing Spend -- spend on Marketing in the past few years\n",
    "\n",
    "State -- states from which data is collected\n",
    "\n",
    "Profit  -- profit of each state in the past few years\n"
   ]
  },
  {
   "cell_type": "code",
   "execution_count": 1,
   "id": "24eeb242",
   "metadata": {
    "ExecuteTime": {
     "end_time": "2022-10-23T10:17:50.448032Z",
     "start_time": "2022-10-23T10:17:48.218401Z"
    }
   },
   "outputs": [],
   "source": [
    "import pandas as pd \n",
    "import numpy as np\n",
    "import matplotlib.pyplot as plt\n",
    "import seaborn as sns \n",
    "import statsmodels.formula.api as smf\n",
    "from statsmodels.graphics.regressionplots import influence_plot\n",
    "from sklearn.metrics import mean_squared_error "
   ]
  },
  {
   "cell_type": "code",
   "execution_count": 2,
   "id": "d1d7c1dc",
   "metadata": {
    "ExecuteTime": {
     "end_time": "2022-10-23T10:17:50.495943Z",
     "start_time": "2022-10-23T10:17:50.448032Z"
    }
   },
   "outputs": [
    {
     "data": {
      "text/html": [
       "<div>\n",
       "<style scoped>\n",
       "    .dataframe tbody tr th:only-of-type {\n",
       "        vertical-align: middle;\n",
       "    }\n",
       "\n",
       "    .dataframe tbody tr th {\n",
       "        vertical-align: top;\n",
       "    }\n",
       "\n",
       "    .dataframe thead th {\n",
       "        text-align: right;\n",
       "    }\n",
       "</style>\n",
       "<table border=\"1\" class=\"dataframe\">\n",
       "  <thead>\n",
       "    <tr style=\"text-align: right;\">\n",
       "      <th></th>\n",
       "      <th>R&amp;D Spend</th>\n",
       "      <th>Administration</th>\n",
       "      <th>Marketing Spend</th>\n",
       "      <th>State</th>\n",
       "      <th>Profit</th>\n",
       "    </tr>\n",
       "  </thead>\n",
       "  <tbody>\n",
       "    <tr>\n",
       "      <th>0</th>\n",
       "      <td>165349.20</td>\n",
       "      <td>136897.80</td>\n",
       "      <td>471784.10</td>\n",
       "      <td>New York</td>\n",
       "      <td>192261.83</td>\n",
       "    </tr>\n",
       "    <tr>\n",
       "      <th>1</th>\n",
       "      <td>162597.70</td>\n",
       "      <td>151377.59</td>\n",
       "      <td>443898.53</td>\n",
       "      <td>California</td>\n",
       "      <td>191792.06</td>\n",
       "    </tr>\n",
       "    <tr>\n",
       "      <th>2</th>\n",
       "      <td>153441.51</td>\n",
       "      <td>101145.55</td>\n",
       "      <td>407934.54</td>\n",
       "      <td>Florida</td>\n",
       "      <td>191050.39</td>\n",
       "    </tr>\n",
       "    <tr>\n",
       "      <th>3</th>\n",
       "      <td>144372.41</td>\n",
       "      <td>118671.85</td>\n",
       "      <td>383199.62</td>\n",
       "      <td>New York</td>\n",
       "      <td>182901.99</td>\n",
       "    </tr>\n",
       "    <tr>\n",
       "      <th>4</th>\n",
       "      <td>142107.34</td>\n",
       "      <td>91391.77</td>\n",
       "      <td>366168.42</td>\n",
       "      <td>Florida</td>\n",
       "      <td>166187.94</td>\n",
       "    </tr>\n",
       "  </tbody>\n",
       "</table>\n",
       "</div>"
      ],
      "text/plain": [
       "   R&D Spend  Administration  Marketing Spend       State     Profit\n",
       "0  165349.20       136897.80        471784.10    New York  192261.83\n",
       "1  162597.70       151377.59        443898.53  California  191792.06\n",
       "2  153441.51       101145.55        407934.54     Florida  191050.39\n",
       "3  144372.41       118671.85        383199.62    New York  182901.99\n",
       "4  142107.34        91391.77        366168.42     Florida  166187.94"
      ]
     },
     "execution_count": 2,
     "metadata": {},
     "output_type": "execute_result"
    }
   ],
   "source": [
    "df=pd.read_csv(\"50_Startups.csv\")\n",
    "df.head()"
   ]
  },
  {
   "cell_type": "code",
   "execution_count": 3,
   "id": "716a35af",
   "metadata": {
    "ExecuteTime": {
     "end_time": "2022-10-23T10:17:50.520400Z",
     "start_time": "2022-10-23T10:17:50.495943Z"
    }
   },
   "outputs": [
    {
     "data": {
      "text/html": [
       "<div>\n",
       "<style scoped>\n",
       "    .dataframe tbody tr th:only-of-type {\n",
       "        vertical-align: middle;\n",
       "    }\n",
       "\n",
       "    .dataframe tbody tr th {\n",
       "        vertical-align: top;\n",
       "    }\n",
       "\n",
       "    .dataframe thead th {\n",
       "        text-align: right;\n",
       "    }\n",
       "</style>\n",
       "<table border=\"1\" class=\"dataframe\">\n",
       "  <thead>\n",
       "    <tr style=\"text-align: right;\">\n",
       "      <th></th>\n",
       "      <th>RnD</th>\n",
       "      <th>admin</th>\n",
       "      <th>marketing</th>\n",
       "      <th>state</th>\n",
       "      <th>profit</th>\n",
       "    </tr>\n",
       "  </thead>\n",
       "  <tbody>\n",
       "    <tr>\n",
       "      <th>0</th>\n",
       "      <td>165349.20</td>\n",
       "      <td>136897.80</td>\n",
       "      <td>471784.10</td>\n",
       "      <td>New York</td>\n",
       "      <td>192261.83</td>\n",
       "    </tr>\n",
       "    <tr>\n",
       "      <th>1</th>\n",
       "      <td>162597.70</td>\n",
       "      <td>151377.59</td>\n",
       "      <td>443898.53</td>\n",
       "      <td>California</td>\n",
       "      <td>191792.06</td>\n",
       "    </tr>\n",
       "    <tr>\n",
       "      <th>2</th>\n",
       "      <td>153441.51</td>\n",
       "      <td>101145.55</td>\n",
       "      <td>407934.54</td>\n",
       "      <td>Florida</td>\n",
       "      <td>191050.39</td>\n",
       "    </tr>\n",
       "    <tr>\n",
       "      <th>3</th>\n",
       "      <td>144372.41</td>\n",
       "      <td>118671.85</td>\n",
       "      <td>383199.62</td>\n",
       "      <td>New York</td>\n",
       "      <td>182901.99</td>\n",
       "    </tr>\n",
       "    <tr>\n",
       "      <th>4</th>\n",
       "      <td>142107.34</td>\n",
       "      <td>91391.77</td>\n",
       "      <td>366168.42</td>\n",
       "      <td>Florida</td>\n",
       "      <td>166187.94</td>\n",
       "    </tr>\n",
       "  </tbody>\n",
       "</table>\n",
       "</div>"
      ],
      "text/plain": [
       "         RnD      admin  marketing       state     profit\n",
       "0  165349.20  136897.80  471784.10    New York  192261.83\n",
       "1  162597.70  151377.59  443898.53  California  191792.06\n",
       "2  153441.51  101145.55  407934.54     Florida  191050.39\n",
       "3  144372.41  118671.85  383199.62    New York  182901.99\n",
       "4  142107.34   91391.77  366168.42     Florida  166187.94"
      ]
     },
     "execution_count": 3,
     "metadata": {},
     "output_type": "execute_result"
    }
   ],
   "source": [
    "df=df.rename(columns= {\"R&D Spend\" : \"RnD\", \"Administration\" : \"admin\", \n",
    "                        \"Marketing Spend\" : \"marketing\", \"State\": \"state\", \"Profit\" : \"profit\"})\n",
    "df.head() "
   ]
  },
  {
   "cell_type": "markdown",
   "id": "86a7c0f1",
   "metadata": {},
   "source": [
    "One Hot Encoding"
   ]
  },
  {
   "cell_type": "code",
   "execution_count": 4,
   "id": "21269a41",
   "metadata": {
    "ExecuteTime": {
     "end_time": "2022-10-23T10:17:50.540925Z",
     "start_time": "2022-10-23T10:17:50.521490Z"
    }
   },
   "outputs": [
    {
     "data": {
      "text/html": [
       "<div>\n",
       "<style scoped>\n",
       "    .dataframe tbody tr th:only-of-type {\n",
       "        vertical-align: middle;\n",
       "    }\n",
       "\n",
       "    .dataframe tbody tr th {\n",
       "        vertical-align: top;\n",
       "    }\n",
       "\n",
       "    .dataframe thead th {\n",
       "        text-align: right;\n",
       "    }\n",
       "</style>\n",
       "<table border=\"1\" class=\"dataframe\">\n",
       "  <thead>\n",
       "    <tr style=\"text-align: right;\">\n",
       "      <th></th>\n",
       "      <th>RnD</th>\n",
       "      <th>admin</th>\n",
       "      <th>marketing</th>\n",
       "      <th>profit</th>\n",
       "      <th>state_California</th>\n",
       "      <th>state_Florida</th>\n",
       "      <th>state_NewYork</th>\n",
       "    </tr>\n",
       "  </thead>\n",
       "  <tbody>\n",
       "    <tr>\n",
       "      <th>0</th>\n",
       "      <td>165349.20</td>\n",
       "      <td>136897.80</td>\n",
       "      <td>471784.10</td>\n",
       "      <td>192261.83</td>\n",
       "      <td>0</td>\n",
       "      <td>0</td>\n",
       "      <td>1</td>\n",
       "    </tr>\n",
       "    <tr>\n",
       "      <th>1</th>\n",
       "      <td>162597.70</td>\n",
       "      <td>151377.59</td>\n",
       "      <td>443898.53</td>\n",
       "      <td>191792.06</td>\n",
       "      <td>1</td>\n",
       "      <td>0</td>\n",
       "      <td>0</td>\n",
       "    </tr>\n",
       "    <tr>\n",
       "      <th>2</th>\n",
       "      <td>153441.51</td>\n",
       "      <td>101145.55</td>\n",
       "      <td>407934.54</td>\n",
       "      <td>191050.39</td>\n",
       "      <td>0</td>\n",
       "      <td>1</td>\n",
       "      <td>0</td>\n",
       "    </tr>\n",
       "    <tr>\n",
       "      <th>3</th>\n",
       "      <td>144372.41</td>\n",
       "      <td>118671.85</td>\n",
       "      <td>383199.62</td>\n",
       "      <td>182901.99</td>\n",
       "      <td>0</td>\n",
       "      <td>0</td>\n",
       "      <td>1</td>\n",
       "    </tr>\n",
       "    <tr>\n",
       "      <th>4</th>\n",
       "      <td>142107.34</td>\n",
       "      <td>91391.77</td>\n",
       "      <td>366168.42</td>\n",
       "      <td>166187.94</td>\n",
       "      <td>0</td>\n",
       "      <td>1</td>\n",
       "      <td>0</td>\n",
       "    </tr>\n",
       "  </tbody>\n",
       "</table>\n",
       "</div>"
      ],
      "text/plain": [
       "         RnD      admin  marketing     profit  state_California  \\\n",
       "0  165349.20  136897.80  471784.10  192261.83                 0   \n",
       "1  162597.70  151377.59  443898.53  191792.06                 1   \n",
       "2  153441.51  101145.55  407934.54  191050.39                 0   \n",
       "3  144372.41  118671.85  383199.62  182901.99                 0   \n",
       "4  142107.34   91391.77  366168.42  166187.94                 0   \n",
       "\n",
       "   state_Florida  state_NewYork  \n",
       "0              0              1  \n",
       "1              0              0  \n",
       "2              1              0  \n",
       "3              0              1  \n",
       "4              1              0  "
      ]
     },
     "execution_count": 4,
     "metadata": {},
     "output_type": "execute_result"
    }
   ],
   "source": [
    "df1=pd.get_dummies(df)\n",
    "df1=df1.rename(columns={\"state_New York\": \"state_NewYork\"})\n",
    "df1.head()"
   ]
  },
  {
   "cell_type": "markdown",
   "id": "5117e114",
   "metadata": {},
   "source": [
    "Check for missing values"
   ]
  },
  {
   "cell_type": "code",
   "execution_count": 5,
   "id": "0a0df99b",
   "metadata": {
    "ExecuteTime": {
     "end_time": "2022-10-23T10:17:50.554336Z",
     "start_time": "2022-10-23T10:17:50.542212Z"
    },
    "scrolled": true
   },
   "outputs": [
    {
     "data": {
      "text/plain": [
       "0"
      ]
     },
     "execution_count": 5,
     "metadata": {},
     "output_type": "execute_result"
    }
   ],
   "source": [
    "df.isnull().sum().sum()"
   ]
  },
  {
   "cell_type": "markdown",
   "id": "736ec515",
   "metadata": {},
   "source": [
    "Check for duplicate values"
   ]
  },
  {
   "cell_type": "code",
   "execution_count": 6,
   "id": "93cc5620",
   "metadata": {
    "ExecuteTime": {
     "end_time": "2022-10-23T10:17:50.565361Z",
     "start_time": "2022-10-23T10:17:50.554804Z"
    }
   },
   "outputs": [
    {
     "data": {
      "text/plain": [
       "0"
      ]
     },
     "execution_count": 6,
     "metadata": {},
     "output_type": "execute_result"
    }
   ],
   "source": [
    "df.duplicated().sum()"
   ]
  },
  {
   "cell_type": "markdown",
   "id": "56aee04b",
   "metadata": {},
   "source": [
    "Glance at pattern and structure of data"
   ]
  },
  {
   "cell_type": "code",
   "execution_count": 7,
   "id": "565da8be",
   "metadata": {
    "ExecuteTime": {
     "end_time": "2022-10-23T10:17:50.583217Z",
     "start_time": "2022-10-23T10:17:50.567442Z"
    }
   },
   "outputs": [
    {
     "data": {
      "text/html": [
       "<div>\n",
       "<style scoped>\n",
       "    .dataframe tbody tr th:only-of-type {\n",
       "        vertical-align: middle;\n",
       "    }\n",
       "\n",
       "    .dataframe tbody tr th {\n",
       "        vertical-align: top;\n",
       "    }\n",
       "\n",
       "    .dataframe thead th {\n",
       "        text-align: right;\n",
       "    }\n",
       "</style>\n",
       "<table border=\"1\" class=\"dataframe\">\n",
       "  <thead>\n",
       "    <tr style=\"text-align: right;\">\n",
       "      <th></th>\n",
       "      <th>RnD</th>\n",
       "      <th>admin</th>\n",
       "      <th>marketing</th>\n",
       "      <th>profit</th>\n",
       "    </tr>\n",
       "  </thead>\n",
       "  <tbody>\n",
       "    <tr>\n",
       "      <th>count</th>\n",
       "      <td>50.000000</td>\n",
       "      <td>50.000000</td>\n",
       "      <td>50.000000</td>\n",
       "      <td>50.000000</td>\n",
       "    </tr>\n",
       "    <tr>\n",
       "      <th>mean</th>\n",
       "      <td>73721.615600</td>\n",
       "      <td>121344.639600</td>\n",
       "      <td>211025.097800</td>\n",
       "      <td>112012.639200</td>\n",
       "    </tr>\n",
       "    <tr>\n",
       "      <th>std</th>\n",
       "      <td>45902.256482</td>\n",
       "      <td>28017.802755</td>\n",
       "      <td>122290.310726</td>\n",
       "      <td>40306.180338</td>\n",
       "    </tr>\n",
       "    <tr>\n",
       "      <th>min</th>\n",
       "      <td>0.000000</td>\n",
       "      <td>51283.140000</td>\n",
       "      <td>0.000000</td>\n",
       "      <td>14681.400000</td>\n",
       "    </tr>\n",
       "    <tr>\n",
       "      <th>25%</th>\n",
       "      <td>39936.370000</td>\n",
       "      <td>103730.875000</td>\n",
       "      <td>129300.132500</td>\n",
       "      <td>90138.902500</td>\n",
       "    </tr>\n",
       "    <tr>\n",
       "      <th>50%</th>\n",
       "      <td>73051.080000</td>\n",
       "      <td>122699.795000</td>\n",
       "      <td>212716.240000</td>\n",
       "      <td>107978.190000</td>\n",
       "    </tr>\n",
       "    <tr>\n",
       "      <th>75%</th>\n",
       "      <td>101602.800000</td>\n",
       "      <td>144842.180000</td>\n",
       "      <td>299469.085000</td>\n",
       "      <td>139765.977500</td>\n",
       "    </tr>\n",
       "    <tr>\n",
       "      <th>max</th>\n",
       "      <td>165349.200000</td>\n",
       "      <td>182645.560000</td>\n",
       "      <td>471784.100000</td>\n",
       "      <td>192261.830000</td>\n",
       "    </tr>\n",
       "  </tbody>\n",
       "</table>\n",
       "</div>"
      ],
      "text/plain": [
       "                 RnD          admin      marketing         profit\n",
       "count      50.000000      50.000000      50.000000      50.000000\n",
       "mean    73721.615600  121344.639600  211025.097800  112012.639200\n",
       "std     45902.256482   28017.802755  122290.310726   40306.180338\n",
       "min         0.000000   51283.140000       0.000000   14681.400000\n",
       "25%     39936.370000  103730.875000  129300.132500   90138.902500\n",
       "50%     73051.080000  122699.795000  212716.240000  107978.190000\n",
       "75%    101602.800000  144842.180000  299469.085000  139765.977500\n",
       "max    165349.200000  182645.560000  471784.100000  192261.830000"
      ]
     },
     "execution_count": 7,
     "metadata": {},
     "output_type": "execute_result"
    }
   ],
   "source": [
    "df.describe()"
   ]
  },
  {
   "cell_type": "code",
   "execution_count": 8,
   "id": "1a487d7a",
   "metadata": {
    "ExecuteTime": {
     "end_time": "2022-10-23T10:17:50.596756Z",
     "start_time": "2022-10-23T10:17:50.583217Z"
    }
   },
   "outputs": [
    {
     "data": {
      "text/plain": [
       "17"
      ]
     },
     "execution_count": 8,
     "metadata": {},
     "output_type": "execute_result"
    }
   ],
   "source": [
    "df1.state_California.sum()"
   ]
  },
  {
   "cell_type": "code",
   "execution_count": 9,
   "id": "16066758",
   "metadata": {
    "ExecuteTime": {
     "end_time": "2022-10-23T10:17:50.613253Z",
     "start_time": "2022-10-23T10:17:50.596756Z"
    }
   },
   "outputs": [
    {
     "data": {
      "text/plain": [
       "16"
      ]
     },
     "execution_count": 9,
     "metadata": {},
     "output_type": "execute_result"
    }
   ],
   "source": [
    "df1.state_Florida.sum()"
   ]
  },
  {
   "cell_type": "code",
   "execution_count": 10,
   "id": "4a443573",
   "metadata": {
    "ExecuteTime": {
     "end_time": "2022-10-23T10:17:50.629554Z",
     "start_time": "2022-10-23T10:17:50.613253Z"
    }
   },
   "outputs": [
    {
     "data": {
      "text/plain": [
       "17"
      ]
     },
     "execution_count": 10,
     "metadata": {},
     "output_type": "execute_result"
    }
   ],
   "source": [
    "df1.state_NewYork.sum()"
   ]
  },
  {
   "cell_type": "markdown",
   "id": "f5ff3a6b",
   "metadata": {},
   "source": [
    "## Visualise distribution of data & Outlier detection "
   ]
  },
  {
   "cell_type": "markdown",
   "id": "d498f211",
   "metadata": {},
   "source": [
    "## Feature: RnD"
   ]
  },
  {
   "cell_type": "code",
   "execution_count": 11,
   "id": "3e0f723b",
   "metadata": {
    "ExecuteTime": {
     "end_time": "2022-10-23T10:17:50.904770Z",
     "start_time": "2022-10-23T10:17:50.630604Z"
    }
   },
   "outputs": [
    {
     "data": {
      "image/png": "[encoded data removed]",
      "text/plain": [
       "<Figure size 1080x432 with 2 Axes>"
      ]
     },
     "metadata": {
      "needs_background": "light"
     },
     "output_type": "display_data"
    }
   ],
   "source": [
    "fig = plt.figure(figsize=(15,6))\n",
    "plt.subplot(1,2,1)\n",
    "plt.hist(df.RnD)\n",
    "\n",
    "plt.subplot(1,2,2)\n",
    "plt.violinplot(df[\"RnD\"],showmedians=True)\n",
    "plt.boxplot(df[\"RnD\"])\n",
    "plt.show()"
   ]
  },
  {
   "cell_type": "markdown",
   "id": "e36e8eec",
   "metadata": {},
   "source": [
    "## Feature: admin "
   ]
  },
  {
   "cell_type": "code",
   "execution_count": 12,
   "id": "5b16bd0b",
   "metadata": {
    "ExecuteTime": {
     "end_time": "2022-10-23T10:17:51.146020Z",
     "start_time": "2022-10-23T10:17:50.904875Z"
    },
    "scrolled": false
   },
   "outputs": [
    {
     "data": {
      "image/png": "[encoded data removed]",
      "text/plain": [
       "<Figure size 1080x432 with 2 Axes>"
      ]
     },
     "metadata": {
      "needs_background": "light"
     },
     "output_type": "display_data"
    }
   ],
   "source": [
    "fig = plt.figure(figsize=(15,6))\n",
    "plt.subplot(1,2,1)\n",
    "plt.hist(df.admin)\n",
    "\n",
    "plt.subplot(1,2,2)\n",
    "plt.violinplot(df[\"admin\"],showmedians=True)\n",
    "plt.boxplot(df[\"admin\"])\n",
    "plt.show()"
   ]
  },
  {
   "cell_type": "markdown",
   "id": "b9b71bb8",
   "metadata": {},
   "source": [
    "## Feature: marketing "
   ]
  },
  {
   "cell_type": "code",
   "execution_count": 13,
   "id": "c47c8c00",
   "metadata": {
    "ExecuteTime": {
     "end_time": "2022-10-23T10:17:51.354308Z",
     "start_time": "2022-10-23T10:17:51.146020Z"
    }
   },
   "outputs": [
    {
     "data": {
      "image/png": "[encoded data removed]",
      "text/plain": [
       "<Figure size 1080x432 with 2 Axes>"
      ]
     },
     "metadata": {
      "needs_background": "light"
     },
     "output_type": "display_data"
    }
   ],
   "source": [
    "fig = plt.figure(figsize=(15,6))\n",
    "plt.subplot(1,2,1)\n",
    "plt.hist(df.marketing)\n",
    "\n",
    "plt.subplot(1,2,2)\n",
    "plt.violinplot(df[\"marketing\"],showmedians=True)\n",
    "plt.boxplot(df[\"marketing\"])\n",
    "plt.show()"
   ]
  },
  {
   "cell_type": "markdown",
   "id": "aed3f05e",
   "metadata": {},
   "source": [
    "## Feature: profit "
   ]
  },
  {
   "cell_type": "code",
   "execution_count": 14,
   "id": "87c5b2d1",
   "metadata": {
    "ExecuteTime": {
     "end_time": "2022-10-23T10:17:51.629179Z",
     "start_time": "2022-10-23T10:17:51.356838Z"
    },
    "scrolled": true
   },
   "outputs": [
    {
     "data": {
      "image/png": "[encoded data removed]",
      "text/plain": [
       "<Figure size 1080x432 with 2 Axes>"
      ]
     },
     "metadata": {
      "needs_background": "light"
     },
     "output_type": "display_data"
    }
   ],
   "source": [
    "fig = plt.figure(figsize=(15,6))\n",
    "plt.subplot(1,2,1)\n",
    "plt.hist(df.profit)\n",
    "\n",
    "plt.subplot(1,2,2)\n",
    "plt.violinplot(df[\"profit\"],showmedians=True)\n",
    "plt.boxplot(df[\"profit\"])\n",
    "plt.show()"
   ]
  },
  {
   "cell_type": "markdown",
   "id": "76e1d24e",
   "metadata": {},
   "source": [
    "Removing outlier from profit"
   ]
  },
  {
   "cell_type": "code",
   "execution_count": 15,
   "id": "4fe03f55",
   "metadata": {
    "ExecuteTime": {
     "end_time": "2022-10-23T10:17:51.642357Z",
     "start_time": "2022-10-23T10:17:51.631249Z"
    }
   },
   "outputs": [
    {
     "data": {
      "text/plain": [
       "49    14681.4\n",
       "Name: profit, dtype: float64"
      ]
     },
     "execution_count": 15,
     "metadata": {},
     "output_type": "execute_result"
    }
   ],
   "source": [
    "Q1,Q3 = np.percentile(df.profit , [25,75])\n",
    "IQR = Q3 - Q1\n",
    "ul = Q3+1.5*IQR\n",
    "ll = Q1-1.5*IQR\n",
    "outliers = df.profit[(df.profit > ul) | (df.profit < ll)]\n",
    "outliers"
   ]
  },
  {
   "cell_type": "code",
   "execution_count": 16,
   "id": "07a073fb",
   "metadata": {
    "ExecuteTime": {
     "end_time": "2022-10-23T10:17:51.662667Z",
     "start_time": "2022-10-23T10:17:51.642357Z"
    }
   },
   "outputs": [
    {
     "data": {
      "text/html": [
       "<div>\n",
       "<style scoped>\n",
       "    .dataframe tbody tr th:only-of-type {\n",
       "        vertical-align: middle;\n",
       "    }\n",
       "\n",
       "    .dataframe tbody tr th {\n",
       "        vertical-align: top;\n",
       "    }\n",
       "\n",
       "    .dataframe thead th {\n",
       "        text-align: right;\n",
       "    }\n",
       "</style>\n",
       "<table border=\"1\" class=\"dataframe\">\n",
       "  <thead>\n",
       "    <tr style=\"text-align: right;\">\n",
       "      <th></th>\n",
       "      <th>RnD</th>\n",
       "      <th>admin</th>\n",
       "      <th>marketing</th>\n",
       "      <th>state</th>\n",
       "      <th>profit</th>\n",
       "    </tr>\n",
       "  </thead>\n",
       "  <tbody>\n",
       "    <tr>\n",
       "      <th>44</th>\n",
       "      <td>22177.74</td>\n",
       "      <td>154806.14</td>\n",
       "      <td>28334.72</td>\n",
       "      <td>California</td>\n",
       "      <td>65200.33</td>\n",
       "    </tr>\n",
       "    <tr>\n",
       "      <th>45</th>\n",
       "      <td>1000.23</td>\n",
       "      <td>124153.04</td>\n",
       "      <td>1903.93</td>\n",
       "      <td>New York</td>\n",
       "      <td>64926.08</td>\n",
       "    </tr>\n",
       "    <tr>\n",
       "      <th>46</th>\n",
       "      <td>1315.46</td>\n",
       "      <td>115816.21</td>\n",
       "      <td>297114.46</td>\n",
       "      <td>Florida</td>\n",
       "      <td>49490.75</td>\n",
       "    </tr>\n",
       "    <tr>\n",
       "      <th>47</th>\n",
       "      <td>0.00</td>\n",
       "      <td>135426.92</td>\n",
       "      <td>0.00</td>\n",
       "      <td>California</td>\n",
       "      <td>42559.73</td>\n",
       "    </tr>\n",
       "    <tr>\n",
       "      <th>48</th>\n",
       "      <td>542.05</td>\n",
       "      <td>51743.15</td>\n",
       "      <td>0.00</td>\n",
       "      <td>New York</td>\n",
       "      <td>35673.41</td>\n",
       "    </tr>\n",
       "  </tbody>\n",
       "</table>\n",
       "</div>"
      ],
      "text/plain": [
       "         RnD      admin  marketing       state    profit\n",
       "44  22177.74  154806.14   28334.72  California  65200.33\n",
       "45   1000.23  124153.04    1903.93    New York  64926.08\n",
       "46   1315.46  115816.21  297114.46     Florida  49490.75\n",
       "47      0.00  135426.92       0.00  California  42559.73\n",
       "48    542.05   51743.15       0.00    New York  35673.41"
      ]
     },
     "execution_count": 16,
     "metadata": {},
     "output_type": "execute_result"
    }
   ],
   "source": [
    "df=df.drop(index=49)\n",
    "df.tail()"
   ]
  },
  {
   "cell_type": "code",
   "execution_count": 17,
   "id": "95774bf9",
   "metadata": {
    "ExecuteTime": {
     "end_time": "2022-10-23T10:17:51.684162Z",
     "start_time": "2022-10-23T10:17:51.664877Z"
    }
   },
   "outputs": [
    {
     "data": {
      "text/html": [
       "<div>\n",
       "<style scoped>\n",
       "    .dataframe tbody tr th:only-of-type {\n",
       "        vertical-align: middle;\n",
       "    }\n",
       "\n",
       "    .dataframe tbody tr th {\n",
       "        vertical-align: top;\n",
       "    }\n",
       "\n",
       "    .dataframe thead th {\n",
       "        text-align: right;\n",
       "    }\n",
       "</style>\n",
       "<table border=\"1\" class=\"dataframe\">\n",
       "  <thead>\n",
       "    <tr style=\"text-align: right;\">\n",
       "      <th></th>\n",
       "      <th>RnD</th>\n",
       "      <th>admin</th>\n",
       "      <th>marketing</th>\n",
       "      <th>profit</th>\n",
       "      <th>state_California</th>\n",
       "      <th>state_Florida</th>\n",
       "      <th>state_NewYork</th>\n",
       "    </tr>\n",
       "  </thead>\n",
       "  <tbody>\n",
       "    <tr>\n",
       "      <th>44</th>\n",
       "      <td>22177.74</td>\n",
       "      <td>154806.14</td>\n",
       "      <td>28334.72</td>\n",
       "      <td>65200.33</td>\n",
       "      <td>1</td>\n",
       "      <td>0</td>\n",
       "      <td>0</td>\n",
       "    </tr>\n",
       "    <tr>\n",
       "      <th>45</th>\n",
       "      <td>1000.23</td>\n",
       "      <td>124153.04</td>\n",
       "      <td>1903.93</td>\n",
       "      <td>64926.08</td>\n",
       "      <td>0</td>\n",
       "      <td>0</td>\n",
       "      <td>1</td>\n",
       "    </tr>\n",
       "    <tr>\n",
       "      <th>46</th>\n",
       "      <td>1315.46</td>\n",
       "      <td>115816.21</td>\n",
       "      <td>297114.46</td>\n",
       "      <td>49490.75</td>\n",
       "      <td>0</td>\n",
       "      <td>1</td>\n",
       "      <td>0</td>\n",
       "    </tr>\n",
       "    <tr>\n",
       "      <th>47</th>\n",
       "      <td>0.00</td>\n",
       "      <td>135426.92</td>\n",
       "      <td>0.00</td>\n",
       "      <td>42559.73</td>\n",
       "      <td>1</td>\n",
       "      <td>0</td>\n",
       "      <td>0</td>\n",
       "    </tr>\n",
       "    <tr>\n",
       "      <th>48</th>\n",
       "      <td>542.05</td>\n",
       "      <td>51743.15</td>\n",
       "      <td>0.00</td>\n",
       "      <td>35673.41</td>\n",
       "      <td>0</td>\n",
       "      <td>0</td>\n",
       "      <td>1</td>\n",
       "    </tr>\n",
       "  </tbody>\n",
       "</table>\n",
       "</div>"
      ],
      "text/plain": [
       "         RnD      admin  marketing    profit  state_California  state_Florida  \\\n",
       "44  22177.74  154806.14   28334.72  65200.33                 1              0   \n",
       "45   1000.23  124153.04    1903.93  64926.08                 0              0   \n",
       "46   1315.46  115816.21  297114.46  49490.75                 0              1   \n",
       "47      0.00  135426.92       0.00  42559.73                 1              0   \n",
       "48    542.05   51743.15       0.00  35673.41                 0              0   \n",
       "\n",
       "    state_NewYork  \n",
       "44              0  \n",
       "45              1  \n",
       "46              0  \n",
       "47              0  \n",
       "48              1  "
      ]
     },
     "execution_count": 17,
     "metadata": {},
     "output_type": "execute_result"
    }
   ],
   "source": [
    "df1=df1.drop(index=49)\n",
    "df1.tail()"
   ]
  },
  {
   "cell_type": "code",
   "execution_count": 18,
   "id": "5ec4f13b",
   "metadata": {
    "ExecuteTime": {
     "end_time": "2022-10-23T10:17:51.931755Z",
     "start_time": "2022-10-23T10:17:51.684162Z"
    }
   },
   "outputs": [
    {
     "data": {
      "image/png": "[encoded data removed]",
      "text/plain": [
       "<Figure size 432x288 with 1 Axes>"
      ]
     },
     "metadata": {
      "needs_background": "light"
     },
     "output_type": "display_data"
    }
   ],
   "source": [
    "sns.stripplot(x='state', y='profit', data=df)\n",
    "plt.ylabel('profit')\n",
    "plt.show()"
   ]
  },
  {
   "cell_type": "markdown",
   "id": "0aac0e89",
   "metadata": {},
   "source": [
    "## Correlation Matrix"
   ]
  },
  {
   "cell_type": "code",
   "execution_count": 19,
   "id": "2f1cd583",
   "metadata": {
    "ExecuteTime": {
     "end_time": "2022-10-23T10:17:51.963832Z",
     "start_time": "2022-10-23T10:17:51.931755Z"
    }
   },
   "outputs": [
    {
     "data": {
      "text/html": [
       "<div>\n",
       "<style scoped>\n",
       "    .dataframe tbody tr th:only-of-type {\n",
       "        vertical-align: middle;\n",
       "    }\n",
       "\n",
       "    .dataframe tbody tr th {\n",
       "        vertical-align: top;\n",
       "    }\n",
       "\n",
       "    .dataframe thead th {\n",
       "        text-align: right;\n",
       "    }\n",
       "</style>\n",
       "<table border=\"1\" class=\"dataframe\">\n",
       "  <thead>\n",
       "    <tr style=\"text-align: right;\">\n",
       "      <th></th>\n",
       "      <th>RnD</th>\n",
       "      <th>admin</th>\n",
       "      <th>marketing</th>\n",
       "      <th>profit</th>\n",
       "    </tr>\n",
       "  </thead>\n",
       "  <tbody>\n",
       "    <tr>\n",
       "      <th>RnD</th>\n",
       "      <td>1.000000</td>\n",
       "      <td>0.243438</td>\n",
       "      <td>0.711654</td>\n",
       "      <td>0.978437</td>\n",
       "    </tr>\n",
       "    <tr>\n",
       "      <th>admin</th>\n",
       "      <td>0.243438</td>\n",
       "      <td>1.000000</td>\n",
       "      <td>-0.037280</td>\n",
       "      <td>0.205841</td>\n",
       "    </tr>\n",
       "    <tr>\n",
       "      <th>marketing</th>\n",
       "      <td>0.711654</td>\n",
       "      <td>-0.037280</td>\n",
       "      <td>1.000000</td>\n",
       "      <td>0.739307</td>\n",
       "    </tr>\n",
       "    <tr>\n",
       "      <th>profit</th>\n",
       "      <td>0.978437</td>\n",
       "      <td>0.205841</td>\n",
       "      <td>0.739307</td>\n",
       "      <td>1.000000</td>\n",
       "    </tr>\n",
       "  </tbody>\n",
       "</table>\n",
       "</div>"
      ],
      "text/plain": [
       "                RnD     admin  marketing    profit\n",
       "RnD        1.000000  0.243438   0.711654  0.978437\n",
       "admin      0.243438  1.000000  -0.037280  0.205841\n",
       "marketing  0.711654 -0.037280   1.000000  0.739307\n",
       "profit     0.978437  0.205841   0.739307  1.000000"
      ]
     },
     "execution_count": 19,
     "metadata": {},
     "output_type": "execute_result"
    }
   ],
   "source": [
    "df.corr()"
   ]
  },
  {
   "cell_type": "markdown",
   "id": "fe3db816",
   "metadata": {},
   "source": [
    "Visualise relations between variables with scatterplot"
   ]
  },
  {
   "cell_type": "code",
   "execution_count": 20,
   "id": "0f443fe2",
   "metadata": {
    "ExecuteTime": {
     "end_time": "2022-10-23T10:17:57.576699Z",
     "start_time": "2022-10-23T10:17:51.967402Z"
    }
   },
   "outputs": [
    {
     "data": {
      "text/plain": [
       "<seaborn.axisgrid.PairGrid at 0x20f941da850>"
      ]
     },
     "execution_count": 20,
     "metadata": {},
     "output_type": "execute_result"
    },
    {
     "data": {
      "image/png": "[encoded data removed]",
      "text/plain": [
       "<Figure size 720x720 with 20 Axes>"
      ]
     },
     "metadata": {},
     "output_type": "display_data"
    }
   ],
   "source": [
    "sns.set_style(style='white') #color of the background \n",
    "sns.pairplot(df)"
   ]
  },
  {
   "cell_type": "markdown",
   "id": "b400cb0c",
   "metadata": {
    "ExecuteTime": {
     "end_time": "2022-09-29T10:00:08.984397Z",
     "start_time": "2022-09-29T10:00:08.968221Z"
    }
   },
   "source": [
    "# Preparing a simple linear regression model"
   ]
  },
  {
   "cell_type": "code",
   "execution_count": 21,
   "id": "939a5ad1",
   "metadata": {
    "ExecuteTime": {
     "end_time": "2022-10-23T10:17:57.608268Z",
     "start_time": "2022-10-23T10:17:57.578746Z"
    }
   },
   "outputs": [
    {
     "name": "stdout",
     "output_type": "stream",
     "text": [
      "0.9573395972488337 0.9564319291051918\n",
      "Intercept    2.221695e-27\n",
      "RnD          7.555104e-34\n",
      "dtype: float64\n"
     ]
    }
   ],
   "source": [
    "ml_r=smf.ols(\"profit ~ RnD\",data = df1).fit()  \n",
    "\n",
    "print(ml_r.rsquared, ml_r.rsquared_adj)\n",
    "print(ml_r.pvalues) "
   ]
  },
  {
   "cell_type": "code",
   "execution_count": 22,
   "id": "c6ff9174",
   "metadata": {
    "ExecuteTime": {
     "end_time": "2022-10-23T10:17:57.637380Z",
     "start_time": "2022-10-23T10:17:57.608268Z"
    }
   },
   "outputs": [
    {
     "data": {
      "text/plain": [
       "7803.1759736831145"
      ]
     },
     "execution_count": 22,
     "metadata": {},
     "output_type": "execute_result"
    }
   ],
   "source": [
    "ml_r_pred_y =ml_r.predict(df1)\n",
    "ml_r_rmse =np.sqrt(mean_squared_error(df1.profit , ml_r_pred_y)) \n",
    "ml_r_rmse "
   ]
  },
  {
   "cell_type": "code",
   "execution_count": 23,
   "id": "8bd77d71",
   "metadata": {
    "ExecuteTime": {
     "end_time": "2022-10-23T10:17:57.669657Z",
     "start_time": "2022-10-23T10:17:57.637380Z"
    }
   },
   "outputs": [
    {
     "name": "stdout",
     "output_type": "stream",
     "text": [
      "0.04237035844418102 0.02199525968767435\n",
      "Intercept    0.001618\n",
      "admin        0.155918\n",
      "dtype: float64\n"
     ]
    }
   ],
   "source": [
    "ml_a=smf.ols(\"profit ~ admin\",data = df1).fit()  \n",
    "\n",
    "print(ml_a.rsquared, ml_a.rsquared_adj)\n",
    "print(ml_a.pvalues) "
   ]
  },
  {
   "cell_type": "code",
   "execution_count": 24,
   "id": "0d47c007",
   "metadata": {
    "ExecuteTime": {
     "end_time": "2022-10-23T10:17:57.692290Z",
     "start_time": "2022-10-23T10:17:57.670660Z"
    }
   },
   "outputs": [
    {
     "data": {
      "text/plain": [
       "36970.70357886751"
      ]
     },
     "execution_count": 24,
     "metadata": {},
     "output_type": "execute_result"
    }
   ],
   "source": [
    "ml_a_pred_y =ml_a.predict(df1)\n",
    "ml_a_rmse =np.sqrt(mean_squared_error(df1.profit , ml_a_pred_y)) \n",
    "ml_a_rmse"
   ]
  },
  {
   "cell_type": "code",
   "execution_count": 25,
   "id": "8ea4c631",
   "metadata": {
    "ExecuteTime": {
     "end_time": "2022-10-23T10:17:57.728772Z",
     "start_time": "2022-10-23T10:17:57.692290Z"
    }
   },
   "outputs": [
    {
     "name": "stdout",
     "output_type": "stream",
     "text": [
      "0.5465748398585546 0.536927496025758\n",
      "Intercept    5.905020e-11\n",
      "marketing    1.304853e-09\n",
      "dtype: float64\n"
     ]
    }
   ],
   "source": [
    "ml_m=smf.ols(\"profit ~ marketing\",data = df1).fit()  \n",
    "\n",
    "print(ml_m.rsquared, ml_m.rsquared_adj)\n",
    "print(ml_m.pvalues) "
   ]
  },
  {
   "cell_type": "code",
   "execution_count": 26,
   "id": "2675df04",
   "metadata": {
    "ExecuteTime": {
     "end_time": "2022-10-23T10:17:57.753856Z",
     "start_time": "2022-10-23T10:17:57.728772Z"
    }
   },
   "outputs": [
    {
     "data": {
      "text/plain": [
       "25439.685203027788"
      ]
     },
     "execution_count": 26,
     "metadata": {},
     "output_type": "execute_result"
    }
   ],
   "source": [
    "ml_m_pred_y =ml_m.predict(df1)\n",
    "ml_m_rmse =np.sqrt(mean_squared_error(df1.profit , ml_m_pred_y)) \n",
    "ml_m_rmse "
   ]
  },
  {
   "cell_type": "markdown",
   "id": "6a170980",
   "metadata": {},
   "source": [
    "# Preparing a multilinear regression model "
   ]
  },
  {
   "cell_type": "code",
   "execution_count": 27,
   "id": "488b6a79",
   "metadata": {
    "ExecuteTime": {
     "end_time": "2022-10-23T10:17:57.803164Z",
     "start_time": "2022-10-23T10:17:57.753856Z"
    }
   },
   "outputs": [
    {
     "name": "stdout",
     "output_type": "stream",
     "text": [
      "0.9618082858227786 0.9573673888254273\n",
      "Intercept           9.775355e-12\n",
      "RnD                 1.898629e-23\n",
      "admin               6.162761e-01\n",
      "marketing           7.828496e-02\n",
      "state_California    2.245343e-08\n",
      "state_Florida       1.586488e-06\n",
      "state_NewYork       4.952785e-07\n",
      "dtype: float64\n"
     ]
    }
   ],
   "source": [
    "model = smf.ols('profit ~ RnD + admin + marketing  + state_California + state_Florida + state_NewYork', data=df1).fit()\n",
    "\n",
    "print(model.rsquared,model.rsquared_adj)\n",
    "print(model.pvalues)"
   ]
  },
  {
   "cell_type": "code",
   "execution_count": 28,
   "id": "4d27e0c2",
   "metadata": {
    "ExecuteTime": {
     "end_time": "2022-10-23T10:17:57.850903Z",
     "start_time": "2022-10-23T10:17:57.811458Z"
    }
   },
   "outputs": [
    {
     "data": {
      "text/plain": [
       "7383.180758323904"
      ]
     },
     "execution_count": 28,
     "metadata": {},
     "output_type": "execute_result"
    }
   ],
   "source": [
    "model_pred_y =model.predict(df1)\n",
    "model_rmse =np.sqrt(mean_squared_error(df1.profit , model_pred_y)) \n",
    "model_rmse "
   ]
  },
  {
   "cell_type": "code",
   "execution_count": 29,
   "id": "ad234ee0",
   "metadata": {
    "ExecuteTime": {
     "end_time": "2022-10-23T10:17:57.894941Z",
     "start_time": "2022-10-23T10:17:57.854029Z"
    }
   },
   "outputs": [
    {
     "name": "stdout",
     "output_type": "stream",
     "text": [
      "0.9613162435129847 0.9587373264138503\n",
      "Intercept    2.960000e-12\n",
      "RnD          1.971077e-24\n",
      "admin        6.070728e-01\n",
      "marketing    7.458443e-02\n",
      "dtype: float64\n"
     ]
    }
   ],
   "source": [
    "modela = smf.ols('profit ~ RnD + admin + marketing ', data=df1).fit()\n",
    "\n",
    "print(modela.rsquared,modela.rsquared_adj)\n",
    "print(modela.pvalues)\n",
    "\n",
    "#notice that R square adj value improved upon deletion of state feature."
   ]
  },
  {
   "cell_type": "code",
   "execution_count": 30,
   "id": "bf30a22b",
   "metadata": {
    "ExecuteTime": {
     "end_time": "2022-10-23T10:17:57.927695Z",
     "start_time": "2022-10-23T10:17:57.894941Z"
    }
   },
   "outputs": [
    {
     "data": {
      "text/plain": [
       "7430.589093678349"
      ]
     },
     "execution_count": 30,
     "metadata": {},
     "output_type": "execute_result"
    }
   ],
   "source": [
    "modela_pred_y =modela.predict(df1)\n",
    "modela_rmse =np.sqrt(mean_squared_error(df1.profit , modela_pred_y)) \n",
    "modela_rmse "
   ]
  },
  {
   "cell_type": "code",
   "execution_count": 31,
   "id": "e3ebdef3",
   "metadata": {
    "ExecuteTime": {
     "end_time": "2022-10-23T10:17:57.986177Z",
     "start_time": "2022-10-23T10:17:57.927695Z"
    }
   },
   "outputs": [
    {
     "name": "stdout",
     "output_type": "stream",
     "text": [
      "0.9615819564241955 0.9580894070082133\n",
      "Intercept           3.126811e-24\n",
      "RnD                 3.778016e-25\n",
      "marketing           4.319247e-02\n",
      "state_California    1.773995e-10\n",
      "state_Florida       4.306188e-08\n",
      "state_NewYork       1.071371e-08\n",
      "dtype: float64\n"
     ]
    }
   ],
   "source": [
    "model1 = smf.ols('profit ~ RnD + marketing  + state_California + state_Florida + state_NewYork', data=df1).fit()\n",
    "\n",
    "print(model1.rsquared,model1.rsquared_adj)\n",
    "print(model1.pvalues)\n",
    "\n",
    "#removed admin due to high p value"
   ]
  },
  {
   "cell_type": "code",
   "execution_count": 32,
   "id": "75f55539",
   "metadata": {
    "ExecuteTime": {
     "end_time": "2022-10-23T10:17:58.034214Z",
     "start_time": "2022-10-23T10:17:57.987486Z"
    }
   },
   "outputs": [
    {
     "data": {
      "text/plain": [
       "7405.025319572258"
      ]
     },
     "execution_count": 32,
     "metadata": {},
     "output_type": "execute_result"
    }
   ],
   "source": [
    "model1_pred_y =model1.predict(df1)\n",
    "model1_rmse =np.sqrt(mean_squared_error(df1.profit , model1_pred_y)) \n",
    "model1_rmse "
   ]
  },
  {
   "cell_type": "code",
   "execution_count": 33,
   "id": "38d04de6",
   "metadata": {
    "ExecuteTime": {
     "end_time": "2022-10-23T10:17:58.078813Z",
     "start_time": "2022-10-23T10:17:58.037358Z"
    }
   },
   "outputs": [
    {
     "name": "stdout",
     "output_type": "stream",
     "text": [
      "0.9610856807456628 0.9593937538215612\n",
      "Intercept    1.970460e-25\n",
      "RnD          3.628510e-26\n",
      "marketing    4.084443e-02\n",
      "dtype: float64\n"
     ]
    }
   ],
   "source": [
    "model1a = smf.ols('profit ~ RnD + marketing ' , data=df1).fit()\n",
    "\n",
    "print(model1a.rsquared,model1a.rsquared_adj)\n",
    "print(model1a.pvalues)"
   ]
  },
  {
   "cell_type": "code",
   "execution_count": 34,
   "id": "531ce1ce",
   "metadata": {
    "ExecuteTime": {
     "end_time": "2022-10-23T10:17:58.102216Z",
     "start_time": "2022-10-23T10:17:58.078813Z"
    }
   },
   "outputs": [
    {
     "data": {
      "text/plain": [
       "7452.700079547001"
      ]
     },
     "execution_count": 34,
     "metadata": {},
     "output_type": "execute_result"
    }
   ],
   "source": [
    "model1a_pred_y =model1a.predict(df1)\n",
    "model1a_rmse =np.sqrt(mean_squared_error(df1.profit , model1a_pred_y)) \n",
    "model1a_rmse "
   ]
  },
  {
   "cell_type": "code",
   "execution_count": 35,
   "id": "c0e3add3",
   "metadata": {
    "ExecuteTime": {
     "end_time": "2022-10-23T10:17:58.145986Z",
     "start_time": "2022-10-23T10:17:58.105338Z"
    }
   },
   "outputs": [
    {
     "name": "stdout",
     "output_type": "stream",
     "text": [
      "0.9589186975347428 0.9551840336742649\n",
      "Intercept           3.915755e-14\n",
      "RnD                 1.245905e-31\n",
      "admin               2.790525e-01\n",
      "state_California    4.603323e-09\n",
      "state_Florida       2.468274e-08\n",
      "state_NewYork       1.083007e-07\n",
      "dtype: float64\n"
     ]
    }
   ],
   "source": [
    "model2 = smf.ols('profit ~ RnD + admin + state_California + state_Florida + state_NewYork', data=df1).fit()\n",
    "\n",
    "print(model2.rsquared,model2.rsquared_adj)\n",
    "print(model2.pvalues)"
   ]
  },
  {
   "cell_type": "code",
   "execution_count": 36,
   "id": "7ce7a8b8",
   "metadata": {
    "ExecuteTime": {
     "end_time": "2022-10-23T10:17:58.179897Z",
     "start_time": "2022-10-23T10:17:58.145986Z"
    }
   },
   "outputs": [
    {
     "data": {
      "text/plain": [
       "7657.394597553529"
      ]
     },
     "execution_count": 36,
     "metadata": {},
     "output_type": "execute_result"
    }
   ],
   "source": [
    "model2_pred_y =model2.predict(df1)\n",
    "model2_rmse =np.sqrt(mean_squared_error(df1.profit , model2_pred_y)) \n",
    "model2_rmse "
   ]
  },
  {
   "cell_type": "code",
   "execution_count": 37,
   "id": "70f74a97",
   "metadata": {
    "ExecuteTime": {
     "end_time": "2022-10-23T10:17:58.219167Z",
     "start_time": "2022-10-23T10:17:58.183644Z"
    }
   },
   "outputs": [
    {
     "name": "stdout",
     "output_type": "stream",
     "text": [
      "0.9584519070123048 0.9566454681867528\n",
      "Intercept    1.210032e-14\n",
      "RnD          5.451979e-33\n",
      "admin        2.728844e-01\n",
      "dtype: float64\n"
     ]
    }
   ],
   "source": [
    "model2a = smf.ols('profit ~ RnD + admin', data=df1).fit()\n",
    "\n",
    "print(model2a.rsquared,model2a.rsquared_adj)\n",
    "print(model2a.pvalues)"
   ]
  },
  {
   "cell_type": "code",
   "execution_count": 38,
   "id": "b32a68c2",
   "metadata": {
    "ExecuteTime": {
     "end_time": "2022-10-23T10:17:58.250613Z",
     "start_time": "2022-10-23T10:17:58.222437Z"
    }
   },
   "outputs": [
    {
     "data": {
      "text/plain": [
       "7700.775681775509"
      ]
     },
     "execution_count": 38,
     "metadata": {},
     "output_type": "execute_result"
    }
   ],
   "source": [
    "model2a_pred_y =model2a.predict(df1)\n",
    "model2a_rmse =np.sqrt(mean_squared_error(df1.profit , model2a_pred_y)) \n",
    "model2a_rmse "
   ]
  },
  {
   "cell_type": "code",
   "execution_count": 39,
   "id": "a36bbde3",
   "metadata": {
    "ExecuteTime": {
     "end_time": "2022-10-23T10:17:58.298388Z",
     "start_time": "2022-10-23T10:17:58.254861Z"
    }
   },
   "outputs": [
    {
     "name": "stdout",
     "output_type": "stream",
     "text": [
      "0.957797215080174 0.9549836960855189\n",
      "Intercept           2.820149e-26\n",
      "RnD                 1.775643e-32\n",
      "state_California    2.558546e-10\n",
      "state_Florida       3.357377e-09\n",
      "state_NewYork       1.426591e-08\n",
      "dtype: float64\n"
     ]
    }
   ],
   "source": [
    "model3 = smf.ols('profit ~ RnD + state_California + state_Florida + state_NewYork', data=df1).fit()\n",
    "\n",
    "print(model3.rsquared,model3.rsquared_adj)\n",
    "print(model3.pvalues)"
   ]
  },
  {
   "cell_type": "code",
   "execution_count": 40,
   "id": "2bf25885",
   "metadata": {
    "ExecuteTime": {
     "end_time": "2022-10-23T10:17:58.331528Z",
     "start_time": "2022-10-23T10:17:58.298388Z"
    }
   },
   "outputs": [
    {
     "data": {
      "text/plain": [
       "7761.210824208707"
      ]
     },
     "execution_count": 40,
     "metadata": {},
     "output_type": "execute_result"
    }
   ],
   "source": [
    "model3_pred_y =model3.predict(df1)\n",
    "model3_rmse =np.sqrt(mean_squared_error(df1.profit , model3_pred_y)) \n",
    "model3_rmse "
   ]
  },
  {
   "cell_type": "code",
   "execution_count": 41,
   "id": "297b5039",
   "metadata": {
    "ExecuteTime": {
     "end_time": "2022-10-23T10:17:58.361320Z",
     "start_time": "2022-10-23T10:17:58.331528Z"
    }
   },
   "outputs": [
    {
     "name": "stdout",
     "output_type": "stream",
     "text": [
      "0.9573395972488337 0.9564319291051918\n",
      "Intercept    2.221695e-27\n",
      "RnD          7.555104e-34\n",
      "dtype: float64\n"
     ]
    }
   ],
   "source": [
    "model3a = smf.ols('profit ~ RnD' , data=df1).fit()\n",
    "\n",
    "print(model3a.rsquared,model3a.rsquared_adj)\n",
    "print(model3a.pvalues)"
   ]
  },
  {
   "cell_type": "code",
   "execution_count": 42,
   "id": "3a42bf63",
   "metadata": {
    "ExecuteTime": {
     "end_time": "2022-10-23T10:17:58.393972Z",
     "start_time": "2022-10-23T10:17:58.361320Z"
    }
   },
   "outputs": [
    {
     "data": {
      "text/plain": [
       "7803.1759736831145"
      ]
     },
     "execution_count": 42,
     "metadata": {},
     "output_type": "execute_result"
    }
   ],
   "source": [
    "model3a_pred_y =model3a.predict(df1)\n",
    "model3a_rmse =np.sqrt(mean_squared_error(df1.profit , model3a_pred_y)) \n",
    "model3a_rmse "
   ]
  },
  {
   "cell_type": "markdown",
   "id": "ac24b0ec",
   "metadata": {},
   "source": [
    "# R Square value for each prepared model"
   ]
  },
  {
   "cell_type": "code",
   "execution_count": 43,
   "id": "a1d22e4a",
   "metadata": {
    "ExecuteTime": {
     "end_time": "2022-10-23T10:17:58.411442Z",
     "start_time": "2022-10-23T10:17:58.397427Z"
    }
   },
   "outputs": [],
   "source": [
    "R_sqr_adj= 0"
   ]
  },
  {
   "cell_type": "code",
   "execution_count": 44,
   "id": "5ac5d566",
   "metadata": {
    "ExecuteTime": {
     "end_time": "2022-10-23T10:17:58.469207Z",
     "start_time": "2022-10-23T10:17:58.416062Z"
    }
   },
   "outputs": [
    {
     "data": {
      "text/html": [
       "<div>\n",
       "<style scoped>\n",
       "    .dataframe tbody tr th:only-of-type {\n",
       "        vertical-align: middle;\n",
       "    }\n",
       "\n",
       "    .dataframe tbody tr th {\n",
       "        vertical-align: top;\n",
       "    }\n",
       "\n",
       "    .dataframe thead th {\n",
       "        text-align: right;\n",
       "    }\n",
       "</style>\n",
       "<table border=\"1\" class=\"dataframe\">\n",
       "  <thead>\n",
       "    <tr style=\"text-align: right;\">\n",
       "      <th></th>\n",
       "      <th>R_Sqr</th>\n",
       "      <th>R_Sqr_adj</th>\n",
       "      <th>RMSE</th>\n",
       "    </tr>\n",
       "    <tr>\n",
       "      <th>Models</th>\n",
       "      <th></th>\n",
       "      <th></th>\n",
       "      <th></th>\n",
       "    </tr>\n",
       "  </thead>\n",
       "  <tbody>\n",
       "    <tr>\n",
       "      <th>profit ~ RnD</th>\n",
       "      <td>0.957340</td>\n",
       "      <td>0.956432</td>\n",
       "      <td>7803.175974</td>\n",
       "    </tr>\n",
       "    <tr>\n",
       "      <th>profit ~ admin</th>\n",
       "      <td>0.042370</td>\n",
       "      <td>0.021995</td>\n",
       "      <td>36970.703579</td>\n",
       "    </tr>\n",
       "    <tr>\n",
       "      <th>profit ~ marketing</th>\n",
       "      <td>0.546575</td>\n",
       "      <td>0.536927</td>\n",
       "      <td>25439.685203</td>\n",
       "    </tr>\n",
       "    <tr>\n",
       "      <th>profit ~ RnD + admin + marketing + states</th>\n",
       "      <td>0.961808</td>\n",
       "      <td>0.957367</td>\n",
       "      <td>7383.180758</td>\n",
       "    </tr>\n",
       "    <tr>\n",
       "      <th>profit ~ RnD + admin + marketing</th>\n",
       "      <td>0.961316</td>\n",
       "      <td>0.958737</td>\n",
       "      <td>7430.589094</td>\n",
       "    </tr>\n",
       "    <tr>\n",
       "      <th>profit ~ RnD + marketing  + states</th>\n",
       "      <td>0.961582</td>\n",
       "      <td>0.958089</td>\n",
       "      <td>7405.025320</td>\n",
       "    </tr>\n",
       "    <tr>\n",
       "      <th>profit ~ RnD + marketing</th>\n",
       "      <td>0.961086</td>\n",
       "      <td>0.959394</td>\n",
       "      <td>7452.700080</td>\n",
       "    </tr>\n",
       "    <tr>\n",
       "      <th>profit ~ RnD + admin + states</th>\n",
       "      <td>0.958919</td>\n",
       "      <td>0.955184</td>\n",
       "      <td>7657.394598</td>\n",
       "    </tr>\n",
       "    <tr>\n",
       "      <th>profit ~ RnD + admin</th>\n",
       "      <td>0.958452</td>\n",
       "      <td>0.956645</td>\n",
       "      <td>7700.775682</td>\n",
       "    </tr>\n",
       "    <tr>\n",
       "      <th>profit ~ RnD + states</th>\n",
       "      <td>0.957797</td>\n",
       "      <td>0.954984</td>\n",
       "      <td>7761.210824</td>\n",
       "    </tr>\n",
       "    <tr>\n",
       "      <th>profit ~ RnD</th>\n",
       "      <td>0.957340</td>\n",
       "      <td>0.956432</td>\n",
       "      <td>7803.175974</td>\n",
       "    </tr>\n",
       "  </tbody>\n",
       "</table>\n",
       "</div>"
      ],
      "text/plain": [
       "                                              R_Sqr  R_Sqr_adj          RMSE\n",
       "Models                                                                      \n",
       "profit ~ RnD                               0.957340   0.956432   7803.175974\n",
       "profit ~ admin                             0.042370   0.021995  36970.703579\n",
       "profit ~ marketing                         0.546575   0.536927  25439.685203\n",
       "profit ~ RnD + admin + marketing + states  0.961808   0.957367   7383.180758\n",
       "profit ~ RnD + admin + marketing           0.961316   0.958737   7430.589094\n",
       "profit ~ RnD + marketing  + states         0.961582   0.958089   7405.025320\n",
       "profit ~ RnD + marketing                   0.961086   0.959394   7452.700080\n",
       "profit ~ RnD + admin + states              0.958919   0.955184   7657.394598\n",
       "profit ~ RnD + admin                       0.958452   0.956645   7700.775682\n",
       "profit ~ RnD + states                      0.957797   0.954984   7761.210824\n",
       "profit ~ RnD                               0.957340   0.956432   7803.175974"
      ]
     },
     "execution_count": 44,
     "metadata": {},
     "output_type": "execute_result"
    }
   ],
   "source": [
    "R_sqr_adj= pd.DataFrame()\n",
    "R_sqr_adj[\"Models\"]=[\"profit ~ RnD\", \"profit ~ admin\", \"profit ~ marketing\", \"profit ~ RnD + admin + marketing + states\",\n",
    "                 \"profit ~ RnD + admin + marketing\", \"profit ~ RnD + marketing  + states\", \"profit ~ RnD + marketing\",\n",
    "                 \"profit ~ RnD + admin + states\", \"profit ~ RnD + admin\", \"profit ~ RnD + states\" , \"profit ~ RnD\"]\n",
    " \n",
    "R_sqr_adj[\"R_Sqr\"]=[ml_r.rsquared, ml_a.rsquared, ml_m.rsquared, model.rsquared, modela.rsquared,\n",
    "                model1.rsquared, model1a.rsquared, model2.rsquared, model2a.rsquared, model3.rsquared,\n",
    "                model3a.rsquared]\n",
    "                    \n",
    "R_sqr_adj[\"R_Sqr_adj\"]=[ml_r.rsquared_adj, ml_a.rsquared_adj, ml_m.rsquared_adj, model.rsquared_adj, modela.rsquared_adj,\n",
    "                model1.rsquared_adj, model1a.rsquared_adj, model2.rsquared_adj, model2a.rsquared_adj, model3.rsquared_adj,\n",
    "                model3a.rsquared_adj]\n",
    "\n",
    "R_sqr_adj['RMSE'] = [ml_r_rmse , ml_a_rmse , ml_m_rmse , model_rmse, modela_rmse, model1_rmse, model1a_rmse, \n",
    "                    model2_rmse , model2a_rmse, model3_rmse, model3a_rmse]\n",
    "\n",
    "R_sqr_adj.set_index('Models', inplace=True)\n",
    "R_sqr_adj "
   ]
  },
  {
   "cell_type": "code",
   "execution_count": 45,
   "id": "951ba36d",
   "metadata": {
    "ExecuteTime": {
     "end_time": "2022-10-23T10:17:58.495322Z",
     "start_time": "2022-10-23T10:17:58.469207Z"
    }
   },
   "outputs": [
    {
     "data": {
      "text/plain": [
       "'profit ~ RnD + marketing'"
      ]
     },
     "execution_count": 45,
     "metadata": {},
     "output_type": "execute_result"
    }
   ],
   "source": [
    "R_sqr_adj[\"R_Sqr_adj\"].idxmax()"
   ]
  },
  {
   "cell_type": "code",
   "execution_count": 46,
   "id": "f4949246",
   "metadata": {
    "ExecuteTime": {
     "end_time": "2022-10-23T10:17:58.519247Z",
     "start_time": "2022-10-23T10:17:58.495322Z"
    }
   },
   "outputs": [
    {
     "name": "stdout",
     "output_type": "stream",
     "text": [
      "Maximum R square adj value is obtained in model with variables: profit ~ RnD + marketing\n"
     ]
    }
   ],
   "source": [
    "print(\"Maximum R square adj value is obtained in model with variables:\", R_sqr_adj[\"R_Sqr_adj\"].idxmax() )"
   ]
  },
  {
   "cell_type": "markdown",
   "id": "19c3994a",
   "metadata": {},
   "source": [
    "# Model Testing"
   ]
  },
  {
   "cell_type": "markdown",
   "id": "6e5ebbb7",
   "metadata": {},
   "source": [
    "Assupmtion for multi linear Regression are as follows:"
   ]
  },
  {
   "cell_type": "markdown",
   "id": "4c43b2e4",
   "metadata": {},
   "source": [
    "### 1)Feature should be independent of each other"
   ]
  },
  {
   "cell_type": "code",
   "execution_count": 47,
   "id": "abdfbf25",
   "metadata": {
    "ExecuteTime": {
     "end_time": "2022-10-23T10:17:58.566645Z",
     "start_time": "2022-10-23T10:17:58.521413Z"
    }
   },
   "outputs": [
    {
     "name": "stdout",
     "output_type": "stream",
     "text": [
      "0.9610856807456628 0.9593937538215612\n",
      "Intercept    1.970460e-25\n",
      "RnD          3.628510e-26\n",
      "marketing    4.084443e-02\n",
      "dtype: float64\n"
     ]
    }
   ],
   "source": [
    "final_model = smf.ols('profit ~ RnD + marketing', data=df1).fit()\n",
    "\n",
    "print(final_model.rsquared,final_model.rsquared_adj)\n",
    "print(final_model.pvalues)"
   ]
  },
  {
   "cell_type": "markdown",
   "id": "88a6e30a",
   "metadata": {},
   "source": [
    "P value of both input variables (RnD and marketing) are less than 0.05, which indicates contribution of both input variables in predicting output is of statistical importance and not a matter of chance.\n",
    "\n",
    "In addition to p value, we can calculate Variance Inflation Factor (VIF) which helps to check the dependency among the features by building a model without the target and testing various combination among the features"
   ]
  },
  {
   "cell_type": "markdown",
   "id": "c4d70dba",
   "metadata": {},
   "source": [
    "Calculating VIF "
   ]
  },
  {
   "cell_type": "code",
   "execution_count": 48,
   "id": "c9dd6e52",
   "metadata": {
    "ExecuteTime": {
     "end_time": "2022-10-23T10:17:58.652310Z",
     "start_time": "2022-10-23T10:17:58.572001Z"
    }
   },
   "outputs": [
    {
     "data": {
      "text/html": [
       "<div>\n",
       "<style scoped>\n",
       "    .dataframe tbody tr th:only-of-type {\n",
       "        vertical-align: middle;\n",
       "    }\n",
       "\n",
       "    .dataframe tbody tr th {\n",
       "        vertical-align: top;\n",
       "    }\n",
       "\n",
       "    .dataframe thead th {\n",
       "        text-align: right;\n",
       "    }\n",
       "</style>\n",
       "<table border=\"1\" class=\"dataframe\">\n",
       "  <thead>\n",
       "    <tr style=\"text-align: right;\">\n",
       "      <th></th>\n",
       "      <th>Variables</th>\n",
       "      <th>VIF</th>\n",
       "    </tr>\n",
       "  </thead>\n",
       "  <tbody>\n",
       "    <tr>\n",
       "      <th>0</th>\n",
       "      <td>RnD</td>\n",
       "      <td>2.377754</td>\n",
       "    </tr>\n",
       "    <tr>\n",
       "      <th>1</th>\n",
       "      <td>admin</td>\n",
       "      <td>1.175172</td>\n",
       "    </tr>\n",
       "    <tr>\n",
       "      <th>2</th>\n",
       "      <td>marketing</td>\n",
       "      <td>2.239957</td>\n",
       "    </tr>\n",
       "  </tbody>\n",
       "</table>\n",
       "</div>"
      ],
      "text/plain": [
       "   Variables       VIF\n",
       "0        RnD  2.377754\n",
       "1      admin  1.175172\n",
       "2  marketing  2.239957"
      ]
     },
     "execution_count": 48,
     "metadata": {},
     "output_type": "execute_result"
    }
   ],
   "source": [
    "rsq_RnD = smf.ols('RnD ~  admin + marketing',data=df).fit().rsquared  \n",
    "vif_RnD = 1/(1-rsq_RnD) \n",
    "\n",
    "rsq_admin = smf.ols('admin ~ RnD + marketing',data=df).fit().rsquared  \n",
    "vif_admin = 1/(1-rsq_admin)\n",
    " \n",
    "rsq_marketing = smf.ols('marketing ~ RnD + admin',data=df).fit().rsquared  \n",
    "vif_marketing = 1/(1-rsq_marketing) \n",
    "\n",
    "# Storing vif values in a data frame\n",
    "d1 = {'Variables':['RnD','admin','marketing'],'VIF':[vif_RnD,vif_admin,vif_marketing]}\n",
    "Vif_frame = pd.DataFrame(d1)  \n",
    "Vif_frame"
   ]
  },
  {
   "cell_type": "markdown",
   "id": "9fa749e0",
   "metadata": {},
   "source": [
    "None of the variables has VIF>20, that means no colinearity among input features, that means input features are independent of each other"
   ]
  },
  {
   "cell_type": "markdown",
   "id": "368e6711",
   "metadata": {},
   "source": [
    "### 2)Residues i.e. errors (xi-xi^) should be independently and normally distributed."
   ]
  },
  {
   "cell_type": "code",
   "execution_count": 49,
   "id": "8d3bd746",
   "metadata": {
    "ExecuteTime": {
     "end_time": "2022-10-23T10:17:59.699579Z",
     "start_time": "2022-10-23T10:17:58.652310Z"
    }
   },
   "outputs": [
    {
     "data": {
      "image/png": "[encoded data removed]",
      "text/plain": [
       "<Figure size 432x288 with 1 Axes>"
      ]
     },
     "metadata": {},
     "output_type": "display_data"
    }
   ],
   "source": [
    "import statsmodels.api as sm\n",
    "qqplot=sm.qqplot(final_model.resid,line=\"q\")\n",
    "plt.title(\"Normal Q-Q plot of residuals\")\n",
    "plt.show() "
   ]
  },
  {
   "cell_type": "markdown",
   "id": "955d7e8a",
   "metadata": {
    "ExecuteTime": {
     "end_time": "2022-09-29T12:45:23.623995Z",
     "start_time": "2022-09-29T12:45:23.610310Z"
    }
   },
   "source": [
    " On a Q-Q plot normally distributed data appears as roughly a straight line \n",
    " \n",
    " Hence, errors are normally distributed, and there is no trend in errors."
   ]
  },
  {
   "cell_type": "markdown",
   "id": "463335a6",
   "metadata": {},
   "source": [
    "### 3) Some errors are positive, some are negative. Hence mean of errors should be zero"
   ]
  },
  {
   "cell_type": "code",
   "execution_count": 50,
   "id": "ca982876",
   "metadata": {
    "ExecuteTime": {
     "end_time": "2022-10-23T10:17:59.714630Z",
     "start_time": "2022-10-23T10:17:59.699579Z"
    }
   },
   "outputs": [
    {
     "data": {
      "text/plain": [
       "1.8428797876386314e-07"
      ]
     },
     "execution_count": 50,
     "metadata": {},
     "output_type": "execute_result"
    }
   ],
   "source": [
    "errors=model.resid \n",
    "errors.mean() "
   ]
  },
  {
   "cell_type": "markdown",
   "id": "ee010828",
   "metadata": {},
   "source": [
    "### 4) Constant Variance (Homoscedasticity)"
   ]
  },
  {
   "cell_type": "markdown",
   "id": "28b59ee4",
   "metadata": {},
   "source": [
    "Homoscedasticity refers to a condition in which the variance of the residual or error term, in a regression model is constant"
   ]
  },
  {
   "cell_type": "code",
   "execution_count": 51,
   "id": "05b00c41",
   "metadata": {
    "ExecuteTime": {
     "end_time": "2022-10-23T10:17:59.736626Z",
     "start_time": "2022-10-23T10:17:59.719150Z"
    }
   },
   "outputs": [
    {
     "data": {
      "text/plain": [
       "0    190942.726927\n",
       "1    188043.924520\n",
       "2    179957.312472\n",
       "3    172246.416164\n",
       "4    170022.687457\n",
       "dtype: float64"
      ]
     },
     "execution_count": 51,
     "metadata": {},
     "output_type": "execute_result"
    }
   ],
   "source": [
    "final_model.fittedvalues.head()"
   ]
  },
  {
   "cell_type": "code",
   "execution_count": 52,
   "id": "1d56e677",
   "metadata": {
    "ExecuteTime": {
     "end_time": "2022-10-23T10:17:59.768397Z",
     "start_time": "2022-10-23T10:17:59.738426Z"
    }
   },
   "outputs": [
    {
     "data": {
      "text/plain": [
       "0     1319.103073\n",
       "1     3748.135480\n",
       "2    11093.077528\n",
       "3    10655.573836\n",
       "4    -3834.747457\n",
       "dtype: float64"
      ]
     },
     "execution_count": 52,
     "metadata": {},
     "output_type": "execute_result"
    }
   ],
   "source": [
    "final_model.resid.head()"
   ]
  },
  {
   "cell_type": "code",
   "execution_count": 53,
   "id": "96e825d7",
   "metadata": {
    "ExecuteTime": {
     "end_time": "2022-10-23T10:17:59.784439Z",
     "start_time": "2022-10-23T10:17:59.773429Z"
    }
   },
   "outputs": [],
   "source": [
    "def get_standardized_values( vals ):\n",
    "    return (vals - vals.mean())/vals.std()"
   ]
  },
  {
   "cell_type": "code",
   "execution_count": 54,
   "id": "94e5ac09",
   "metadata": {
    "ExecuteTime": {
     "end_time": "2022-10-23T10:18:00.209963Z",
     "start_time": "2022-10-23T10:17:59.790077Z"
    }
   },
   "outputs": [
    {
     "data": {
      "image/png": "[encoded data removed]",
      "text/plain": [
       "<Figure size 432x288 with 1 Axes>"
      ]
     },
     "metadata": {},
     "output_type": "display_data"
    }
   ],
   "source": [
    "plt.scatter(get_standardized_values(final_model.fittedvalues),\n",
    "            get_standardized_values(final_model.resid))\n",
    "\n",
    "plt.title('Residual Plot')\n",
    "plt.xlabel('Standardized Fitted values')\n",
    "plt.ylabel('Standardized residual values')\n",
    "plt.show()"
   ]
  },
  {
   "cell_type": "markdown",
   "id": "beef1da5",
   "metadata": {},
   "source": [
    "## Residual Vs Regressors"
   ]
  },
  {
   "cell_type": "code",
   "execution_count": 55,
   "id": "c57fbe97",
   "metadata": {
    "ExecuteTime": {
     "end_time": "2022-10-23T10:18:02.988159Z",
     "start_time": "2022-10-23T10:18:00.213602Z"
    }
   },
   "outputs": [
    {
     "name": "stdout",
     "output_type": "stream",
     "text": [
      "eval_env: 1\n"
     ]
    },
    {
     "data": {
      "image/png": "[encoded data removed]",
      "text/plain": [
       "<Figure size 1080x576 with 4 Axes>"
      ]
     },
     "metadata": {},
     "output_type": "display_data"
    }
   ],
   "source": [
    "fig = plt.figure(figsize=(15,8))\n",
    "fig = sm.graphics.plot_regress_exog(final_model, \"RnD\", fig=fig)\n",
    "plt.show()"
   ]
  },
  {
   "cell_type": "code",
   "execution_count": 56,
   "id": "63e697bc",
   "metadata": {
    "ExecuteTime": {
     "end_time": "2022-10-23T10:18:04.564440Z",
     "start_time": "2022-10-23T10:18:02.988159Z"
    }
   },
   "outputs": [
    {
     "name": "stdout",
     "output_type": "stream",
     "text": [
      "eval_env: 1\n"
     ]
    },
    {
     "data": {
      "image/png": "[encoded data removed]",
      "text/plain": [
       "<Figure size 1080x576 with 4 Axes>"
      ]
     },
     "metadata": {},
     "output_type": "display_data"
    }
   ],
   "source": [
    "fig = plt.figure(figsize=(15,8))\n",
    "fig = sm.graphics.plot_regress_exog(final_model, \"marketing\", fig=fig)\n",
    "plt.show()"
   ]
  },
  {
   "cell_type": "markdown",
   "id": "68e2a985",
   "metadata": {},
   "source": [
    "# Model Deletion Diagnostics"
   ]
  },
  {
   "cell_type": "markdown",
   "id": "8f2ef064",
   "metadata": {},
   "source": [
    "## Detecting Influencers/Outliers"
   ]
  },
  {
   "cell_type": "markdown",
   "id": "9516d6a6",
   "metadata": {},
   "source": [
    "### Cook’s Distance"
   ]
  },
  {
   "cell_type": "code",
   "execution_count": 57,
   "id": "51cc247c",
   "metadata": {
    "ExecuteTime": {
     "end_time": "2022-10-23T10:18:04.586499Z",
     "start_time": "2022-10-23T10:18:04.567486Z"
    }
   },
   "outputs": [],
   "source": [
    "influence_points=final_model.get_influence()\n",
    "c,p_value= influence_points.cooks_distance "
   ]
  },
  {
   "cell_type": "code",
   "execution_count": 58,
   "id": "b57810e9",
   "metadata": {
    "ExecuteTime": {
     "end_time": "2022-10-23T10:18:05.034244Z",
     "start_time": "2022-10-23T10:18:04.589692Z"
    }
   },
   "outputs": [
    {
     "data": {
      "image/png": "[encoded data removed]",
      "text/plain": [
       "<Figure size 1440x504 with 1 Axes>"
      ]
     },
     "metadata": {},
     "output_type": "display_data"
    }
   ],
   "source": [
    "#Plot the influencers values using stem plot\n",
    "fig = plt.subplots(figsize=(20, 7))\n",
    "plt.stem(np.arange(len(df)), np.round(c, 3))\n",
    "plt.xlabel('Row index')\n",
    "plt.ylabel('Cooks Distance')\n",
    "plt.show()"
   ]
  },
  {
   "cell_type": "code",
   "execution_count": 59,
   "id": "e4f4d650",
   "metadata": {
    "ExecuteTime": {
     "end_time": "2022-10-23T10:18:05.061283Z",
     "start_time": "2022-10-23T10:18:05.034244Z"
    }
   },
   "outputs": [
    {
     "data": {
      "text/plain": [
       "(46, 0.1833755649133868)"
      ]
     },
     "execution_count": 59,
     "metadata": {},
     "output_type": "execute_result"
    }
   ],
   "source": [
    "(np.argmax(c),np.max(c))"
   ]
  },
  {
   "cell_type": "markdown",
   "id": "98d2b42d",
   "metadata": {},
   "source": [
    "### High Influence Points"
   ]
  },
  {
   "cell_type": "code",
   "execution_count": 60,
   "id": "0ac7cd6f",
   "metadata": {
    "ExecuteTime": {
     "end_time": "2022-10-23T10:18:05.557118Z",
     "start_time": "2022-10-23T10:18:05.063300Z"
    }
   },
   "outputs": [
    {
     "data": {
      "image/png": "[encoded data removed]",
      "text/plain": [
       "<Figure size 432x288 with 1 Axes>"
      ]
     },
     "metadata": {},
     "output_type": "display_data"
    }
   ],
   "source": [
    "from statsmodels.graphics.regressionplots import influence_plot\n",
    "influence_plot(final_model)\n",
    "plt.show()"
   ]
  },
  {
   "cell_type": "markdown",
   "id": "64dbf292",
   "metadata": {},
   "source": [
    "Leverage Cuttoff Value = 3*(k+1)/n ; k = no.of features/columns & n = no. of datapoints"
   ]
  },
  {
   "cell_type": "code",
   "execution_count": 61,
   "id": "b060eb5b",
   "metadata": {
    "ExecuteTime": {
     "end_time": "2022-10-23T10:18:05.569607Z",
     "start_time": "2022-10-23T10:18:05.557118Z"
    }
   },
   "outputs": [
    {
     "data": {
      "text/plain": [
       "0.36734693877551017"
      ]
     },
     "execution_count": 61,
     "metadata": {},
     "output_type": "execute_result"
    }
   ],
   "source": [
    "k = df.shape[1]\n",
    "n = df.shape[0]\n",
    "leverage_cutoff = 3*((k + 1)/n)\n",
    "leverage_cutoff "
   ]
  },
  {
   "cell_type": "code",
   "execution_count": 62,
   "id": "1875335f",
   "metadata": {
    "ExecuteTime": {
     "end_time": "2022-10-23T10:18:06.000793Z",
     "start_time": "2022-10-23T10:18:05.569739Z"
    }
   },
   "outputs": [
    {
     "data": {
      "image/png": "[encoded data removed]",
      "text/plain": [
       "<Figure size 1440x504 with 1 Axes>"
      ]
     },
     "metadata": {},
     "output_type": "display_data"
    }
   ],
   "source": [
    "fig = plt.subplots(figsize=(20, 7))\n",
    "\n",
    "x=[0,48]\n",
    "y=[0.367,0.367]\n",
    "plt.plot(x, y, color = 'red', linewidth = 2)\n",
    "\n",
    "plt.stem(np.arange(len(df)), np.round(c, 3))\n",
    "plt.xlabel('Row index')\n",
    "plt.ylabel('Cooks Distance')\n",
    "plt.show()"
   ]
  },
  {
   "cell_type": "markdown",
   "id": "3c35d9f6",
   "metadata": {},
   "source": [
    "All the points are below our cut-off line Hence no influencers present in our model"
   ]
  },
  {
   "cell_type": "markdown",
   "id": "b95e3b5f",
   "metadata": {},
   "source": [
    "# Prediction"
   ]
  },
  {
   "cell_type": "markdown",
   "id": "d1842753",
   "metadata": {},
   "source": [
    "Prediction on train data "
   ]
  },
  {
   "cell_type": "code",
   "execution_count": 63,
   "id": "881a759a",
   "metadata": {
    "ExecuteTime": {
     "end_time": "2022-10-23T10:18:06.033368Z",
     "start_time": "2022-10-23T10:18:06.003023Z"
    }
   },
   "outputs": [],
   "source": [
    "y_pred=pd.DataFrame(final_model.predict(df)) "
   ]
  },
  {
   "cell_type": "code",
   "execution_count": 64,
   "id": "7e4af6e8",
   "metadata": {
    "ExecuteTime": {
     "end_time": "2022-10-23T10:18:06.100296Z",
     "start_time": "2022-10-23T10:18:06.036212Z"
    }
   },
   "outputs": [
    {
     "data": {
      "text/html": [
       "<div>\n",
       "<style scoped>\n",
       "    .dataframe tbody tr th:only-of-type {\n",
       "        vertical-align: middle;\n",
       "    }\n",
       "\n",
       "    .dataframe tbody tr th {\n",
       "        vertical-align: top;\n",
       "    }\n",
       "\n",
       "    .dataframe thead th {\n",
       "        text-align: right;\n",
       "    }\n",
       "</style>\n",
       "<table border=\"1\" class=\"dataframe\">\n",
       "  <thead>\n",
       "    <tr style=\"text-align: right;\">\n",
       "      <th></th>\n",
       "      <th>RnD</th>\n",
       "      <th>admin</th>\n",
       "      <th>marketing</th>\n",
       "      <th>state</th>\n",
       "      <th>profit</th>\n",
       "      <th>0</th>\n",
       "    </tr>\n",
       "  </thead>\n",
       "  <tbody>\n",
       "    <tr>\n",
       "      <th>0</th>\n",
       "      <td>165349.20</td>\n",
       "      <td>136897.80</td>\n",
       "      <td>471784.10</td>\n",
       "      <td>New York</td>\n",
       "      <td>192261.83</td>\n",
       "      <td>190942.726927</td>\n",
       "    </tr>\n",
       "    <tr>\n",
       "      <th>1</th>\n",
       "      <td>162597.70</td>\n",
       "      <td>151377.59</td>\n",
       "      <td>443898.53</td>\n",
       "      <td>California</td>\n",
       "      <td>191792.06</td>\n",
       "      <td>188043.924520</td>\n",
       "    </tr>\n",
       "    <tr>\n",
       "      <th>2</th>\n",
       "      <td>153441.51</td>\n",
       "      <td>101145.55</td>\n",
       "      <td>407934.54</td>\n",
       "      <td>Florida</td>\n",
       "      <td>191050.39</td>\n",
       "      <td>179957.312472</td>\n",
       "    </tr>\n",
       "    <tr>\n",
       "      <th>3</th>\n",
       "      <td>144372.41</td>\n",
       "      <td>118671.85</td>\n",
       "      <td>383199.62</td>\n",
       "      <td>New York</td>\n",
       "      <td>182901.99</td>\n",
       "      <td>172246.416164</td>\n",
       "    </tr>\n",
       "    <tr>\n",
       "      <th>4</th>\n",
       "      <td>142107.34</td>\n",
       "      <td>91391.77</td>\n",
       "      <td>366168.42</td>\n",
       "      <td>Florida</td>\n",
       "      <td>166187.94</td>\n",
       "      <td>170022.687457</td>\n",
       "    </tr>\n",
       "    <tr>\n",
       "      <th>5</th>\n",
       "      <td>131876.90</td>\n",
       "      <td>99814.71</td>\n",
       "      <td>362861.36</td>\n",
       "      <td>New York</td>\n",
       "      <td>156991.12</td>\n",
       "      <td>161999.405410</td>\n",
       "    </tr>\n",
       "    <tr>\n",
       "      <th>6</th>\n",
       "      <td>134615.46</td>\n",
       "      <td>147198.87</td>\n",
       "      <td>127716.82</td>\n",
       "      <td>California</td>\n",
       "      <td>156122.51</td>\n",
       "      <td>157669.178690</td>\n",
       "    </tr>\n",
       "    <tr>\n",
       "      <th>7</th>\n",
       "      <td>130298.13</td>\n",
       "      <td>145530.06</td>\n",
       "      <td>323876.68</td>\n",
       "      <td>Florida</td>\n",
       "      <td>155752.60</td>\n",
       "      <td>159705.298181</td>\n",
       "    </tr>\n",
       "    <tr>\n",
       "      <th>8</th>\n",
       "      <td>120542.52</td>\n",
       "      <td>148718.95</td>\n",
       "      <td>311613.29</td>\n",
       "      <td>New York</td>\n",
       "      <td>152211.77</td>\n",
       "      <td>151804.380605</td>\n",
       "    </tr>\n",
       "    <tr>\n",
       "      <th>9</th>\n",
       "      <td>123334.88</td>\n",
       "      <td>108679.17</td>\n",
       "      <td>304981.62</td>\n",
       "      <td>California</td>\n",
       "      <td>149759.96</td>\n",
       "      <td>153787.521922</td>\n",
       "    </tr>\n",
       "    <tr>\n",
       "      <th>10</th>\n",
       "      <td>101913.08</td>\n",
       "      <td>110594.11</td>\n",
       "      <td>229160.95</td>\n",
       "      <td>Florida</td>\n",
       "      <td>146121.95</td>\n",
       "      <td>135096.466868</td>\n",
       "    </tr>\n",
       "    <tr>\n",
       "      <th>11</th>\n",
       "      <td>100671.96</td>\n",
       "      <td>91790.61</td>\n",
       "      <td>249744.55</td>\n",
       "      <td>California</td>\n",
       "      <td>144259.40</td>\n",
       "      <td>134699.049858</td>\n",
       "    </tr>\n",
       "    <tr>\n",
       "      <th>12</th>\n",
       "      <td>93863.75</td>\n",
       "      <td>127320.38</td>\n",
       "      <td>249839.44</td>\n",
       "      <td>Florida</td>\n",
       "      <td>141585.52</td>\n",
       "      <td>129422.677987</td>\n",
       "    </tr>\n",
       "    <tr>\n",
       "      <th>13</th>\n",
       "      <td>91992.39</td>\n",
       "      <td>135495.07</td>\n",
       "      <td>252664.93</td>\n",
       "      <td>California</td>\n",
       "      <td>134307.35</td>\n",
       "      <td>128049.202655</td>\n",
       "    </tr>\n",
       "    <tr>\n",
       "      <th>14</th>\n",
       "      <td>119943.24</td>\n",
       "      <td>156547.42</td>\n",
       "      <td>256512.92</td>\n",
       "      <td>Florida</td>\n",
       "      <td>132602.65</td>\n",
       "      <td>149827.450777</td>\n",
       "    </tr>\n",
       "    <tr>\n",
       "      <th>15</th>\n",
       "      <td>114523.61</td>\n",
       "      <td>122616.84</td>\n",
       "      <td>261776.23</td>\n",
       "      <td>New York</td>\n",
       "      <td>129917.04</td>\n",
       "      <td>145769.611357</td>\n",
       "    </tr>\n",
       "    <tr>\n",
       "      <th>16</th>\n",
       "      <td>78013.11</td>\n",
       "      <td>121597.55</td>\n",
       "      <td>264346.06</td>\n",
       "      <td>California</td>\n",
       "      <td>126992.93</td>\n",
       "      <td>117530.489091</td>\n",
       "    </tr>\n",
       "    <tr>\n",
       "      <th>17</th>\n",
       "      <td>94657.16</td>\n",
       "      <td>145077.58</td>\n",
       "      <td>282574.31</td>\n",
       "      <td>New York</td>\n",
       "      <td>125370.37</td>\n",
       "      <td>130936.300519</td>\n",
       "    </tr>\n",
       "    <tr>\n",
       "      <th>18</th>\n",
       "      <td>91749.16</td>\n",
       "      <td>114175.79</td>\n",
       "      <td>294919.57</td>\n",
       "      <td>Florida</td>\n",
       "      <td>124266.90</td>\n",
       "      <td>129020.306206</td>\n",
       "    </tr>\n",
       "    <tr>\n",
       "      <th>19</th>\n",
       "      <td>86419.70</td>\n",
       "      <td>153514.11</td>\n",
       "      <td>0.00</td>\n",
       "      <td>New York</td>\n",
       "      <td>122776.86</td>\n",
       "      <td>116793.710748</td>\n",
       "    </tr>\n",
       "    <tr>\n",
       "      <th>20</th>\n",
       "      <td>76253.86</td>\n",
       "      <td>113867.30</td>\n",
       "      <td>298664.47</td>\n",
       "      <td>California</td>\n",
       "      <td>118474.03</td>\n",
       "      <td>117108.281313</td>\n",
       "    </tr>\n",
       "    <tr>\n",
       "      <th>21</th>\n",
       "      <td>78389.47</td>\n",
       "      <td>153773.43</td>\n",
       "      <td>299737.29</td>\n",
       "      <td>New York</td>\n",
       "      <td>111313.02</td>\n",
       "      <td>118793.642939</td>\n",
       "    </tr>\n",
       "    <tr>\n",
       "      <th>22</th>\n",
       "      <td>73994.56</td>\n",
       "      <td>122782.75</td>\n",
       "      <td>303319.26</td>\n",
       "      <td>Florida</td>\n",
       "      <td>110352.25</td>\n",
       "      <td>115484.209637</td>\n",
       "    </tr>\n",
       "    <tr>\n",
       "      <th>23</th>\n",
       "      <td>67532.53</td>\n",
       "      <td>105751.03</td>\n",
       "      <td>304768.73</td>\n",
       "      <td>Florida</td>\n",
       "      <td>108733.99</td>\n",
       "      <td>110513.437292</td>\n",
       "    </tr>\n",
       "    <tr>\n",
       "      <th>24</th>\n",
       "      <td>77044.01</td>\n",
       "      <td>99281.34</td>\n",
       "      <td>140574.81</td>\n",
       "      <td>New York</td>\n",
       "      <td>108552.04</td>\n",
       "      <td>113382.099441</td>\n",
       "    </tr>\n",
       "    <tr>\n",
       "      <th>25</th>\n",
       "      <td>64664.71</td>\n",
       "      <td>139553.16</td>\n",
       "      <td>137962.62</td>\n",
       "      <td>California</td>\n",
       "      <td>107404.34</td>\n",
       "      <td>103711.697086</td>\n",
       "    </tr>\n",
       "    <tr>\n",
       "      <th>26</th>\n",
       "      <td>75328.87</td>\n",
       "      <td>144135.98</td>\n",
       "      <td>134050.07</td>\n",
       "      <td>Florida</td>\n",
       "      <td>105733.54</td>\n",
       "      <td>111873.132740</td>\n",
       "    </tr>\n",
       "    <tr>\n",
       "      <th>27</th>\n",
       "      <td>72107.60</td>\n",
       "      <td>127864.55</td>\n",
       "      <td>353183.81</td>\n",
       "      <td>New York</td>\n",
       "      <td>105008.31</td>\n",
       "      <td>115389.649335</td>\n",
       "    </tr>\n",
       "    <tr>\n",
       "      <th>28</th>\n",
       "      <td>66051.52</td>\n",
       "      <td>182645.56</td>\n",
       "      <td>118148.20</td>\n",
       "      <td>Florida</td>\n",
       "      <td>103282.38</td>\n",
       "      <td>104243.190309</td>\n",
       "    </tr>\n",
       "    <tr>\n",
       "      <th>29</th>\n",
       "      <td>65605.48</td>\n",
       "      <td>153032.06</td>\n",
       "      <td>107138.38</td>\n",
       "      <td>New York</td>\n",
       "      <td>101004.64</td>\n",
       "      <td>103595.167960</td>\n",
       "    </tr>\n",
       "    <tr>\n",
       "      <th>30</th>\n",
       "      <td>61994.48</td>\n",
       "      <td>115641.28</td>\n",
       "      <td>91131.24</td>\n",
       "      <td>Florida</td>\n",
       "      <td>99937.59</td>\n",
       "      <td>100355.932697</td>\n",
       "    </tr>\n",
       "    <tr>\n",
       "      <th>31</th>\n",
       "      <td>61136.38</td>\n",
       "      <td>152701.92</td>\n",
       "      <td>88218.23</td>\n",
       "      <td>New York</td>\n",
       "      <td>97483.56</td>\n",
       "      <td>99610.626757</td>\n",
       "    </tr>\n",
       "    <tr>\n",
       "      <th>32</th>\n",
       "      <td>63408.86</td>\n",
       "      <td>129219.61</td>\n",
       "      <td>46085.25</td>\n",
       "      <td>California</td>\n",
       "      <td>97427.84</td>\n",
       "      <td>100216.309933</td>\n",
       "    </tr>\n",
       "    <tr>\n",
       "      <th>33</th>\n",
       "      <td>55493.95</td>\n",
       "      <td>103057.49</td>\n",
       "      <td>214634.81</td>\n",
       "      <td>Florida</td>\n",
       "      <td>96778.92</td>\n",
       "      <td>98705.145163</td>\n",
       "    </tr>\n",
       "    <tr>\n",
       "      <th>34</th>\n",
       "      <td>46426.07</td>\n",
       "      <td>157693.92</td>\n",
       "      <td>210797.67</td>\n",
       "      <td>California</td>\n",
       "      <td>96712.80</td>\n",
       "      <td>91568.745065</td>\n",
       "    </tr>\n",
       "    <tr>\n",
       "      <th>35</th>\n",
       "      <td>46014.02</td>\n",
       "      <td>85047.44</td>\n",
       "      <td>205517.64</td>\n",
       "      <td>New York</td>\n",
       "      <td>96479.51</td>\n",
       "      <td>91104.335025</td>\n",
       "    </tr>\n",
       "    <tr>\n",
       "      <th>36</th>\n",
       "      <td>28663.76</td>\n",
       "      <td>127056.21</td>\n",
       "      <td>201126.82</td>\n",
       "      <td>Florida</td>\n",
       "      <td>90708.19</td>\n",
       "      <td>77530.715090</td>\n",
       "    </tr>\n",
       "    <tr>\n",
       "      <th>37</th>\n",
       "      <td>44069.95</td>\n",
       "      <td>51283.14</td>\n",
       "      <td>197029.42</td>\n",
       "      <td>California</td>\n",
       "      <td>89949.14</td>\n",
       "      <td>89363.970985</td>\n",
       "    </tr>\n",
       "    <tr>\n",
       "      <th>38</th>\n",
       "      <td>20229.59</td>\n",
       "      <td>65947.93</td>\n",
       "      <td>185265.10</td>\n",
       "      <td>New York</td>\n",
       "      <td>81229.06</td>\n",
       "      <td>70555.662763</td>\n",
       "    </tr>\n",
       "    <tr>\n",
       "      <th>39</th>\n",
       "      <td>38558.51</td>\n",
       "      <td>82982.09</td>\n",
       "      <td>174999.30</td>\n",
       "      <td>California</td>\n",
       "      <td>81005.76</td>\n",
       "      <td>84485.861451</td>\n",
       "    </tr>\n",
       "    <tr>\n",
       "      <th>40</th>\n",
       "      <td>28754.33</td>\n",
       "      <td>118546.05</td>\n",
       "      <td>172795.67</td>\n",
       "      <td>California</td>\n",
       "      <td>78239.91</td>\n",
       "      <td>76823.378730</td>\n",
       "    </tr>\n",
       "    <tr>\n",
       "      <th>41</th>\n",
       "      <td>27892.92</td>\n",
       "      <td>84710.77</td>\n",
       "      <td>164470.71</td>\n",
       "      <td>Florida</td>\n",
       "      <td>77798.83</td>\n",
       "      <td>75926.972539</td>\n",
       "    </tr>\n",
       "    <tr>\n",
       "      <th>42</th>\n",
       "      <td>23640.93</td>\n",
       "      <td>96189.63</td>\n",
       "      <td>148001.11</td>\n",
       "      <td>California</td>\n",
       "      <td>71498.49</td>\n",
       "      <td>72178.031523</td>\n",
       "    </tr>\n",
       "    <tr>\n",
       "      <th>43</th>\n",
       "      <td>15505.73</td>\n",
       "      <td>127382.30</td>\n",
       "      <td>35534.17</td>\n",
       "      <td>New York</td>\n",
       "      <td>69758.98</td>\n",
       "      <td>62783.416125</td>\n",
       "    </tr>\n",
       "    <tr>\n",
       "      <th>44</th>\n",
       "      <td>22177.74</td>\n",
       "      <td>154806.14</td>\n",
       "      <td>28334.72</td>\n",
       "      <td>California</td>\n",
       "      <td>65200.33</td>\n",
       "      <td>67759.192437</td>\n",
       "    </tr>\n",
       "    <tr>\n",
       "      <th>45</th>\n",
       "      <td>1000.23</td>\n",
       "      <td>124153.04</td>\n",
       "      <td>1903.93</td>\n",
       "      <td>New York</td>\n",
       "      <td>64926.08</td>\n",
       "      <td>50613.086380</td>\n",
       "    </tr>\n",
       "    <tr>\n",
       "      <th>46</th>\n",
       "      <td>1315.46</td>\n",
       "      <td>115816.21</td>\n",
       "      <td>297114.46</td>\n",
       "      <td>Florida</td>\n",
       "      <td>49490.75</td>\n",
       "      <td>58959.714353</td>\n",
       "    </tr>\n",
       "    <tr>\n",
       "      <th>47</th>\n",
       "      <td>0.00</td>\n",
       "      <td>135426.92</td>\n",
       "      <td>0.00</td>\n",
       "      <td>California</td>\n",
       "      <td>42559.73</td>\n",
       "      <td>49785.269847</td>\n",
       "    </tr>\n",
       "    <tr>\n",
       "      <th>48</th>\n",
       "      <td>542.05</td>\n",
       "      <td>51743.15</td>\n",
       "      <td>0.00</td>\n",
       "      <td>New York</td>\n",
       "      <td>35673.41</td>\n",
       "      <td>50205.566671</td>\n",
       "    </tr>\n",
       "  </tbody>\n",
       "</table>\n",
       "</div>"
      ],
      "text/plain": [
       "          RnD      admin  marketing       state     profit              0\n",
       "0   165349.20  136897.80  471784.10    New York  192261.83  190942.726927\n",
       "1   162597.70  151377.59  443898.53  California  191792.06  188043.924520\n",
       "2   153441.51  101145.55  407934.54     Florida  191050.39  179957.312472\n",
       "3   144372.41  118671.85  383199.62    New York  182901.99  172246.416164\n",
       "4   142107.34   91391.77  366168.42     Florida  166187.94  170022.687457\n",
       "5   131876.90   99814.71  362861.36    New York  156991.12  161999.405410\n",
       "6   134615.46  147198.87  127716.82  California  156122.51  157669.178690\n",
       "7   130298.13  145530.06  323876.68     Florida  155752.60  159705.298181\n",
       "8   120542.52  148718.95  311613.29    New York  152211.77  151804.380605\n",
       "9   123334.88  108679.17  304981.62  California  149759.96  153787.521922\n",
       "10  101913.08  110594.11  229160.95     Florida  146121.95  135096.466868\n",
       "11  100671.96   91790.61  249744.55  California  144259.40  134699.049858\n",
       "12   93863.75  127320.38  249839.44     Florida  141585.52  129422.677987\n",
       "13   91992.39  135495.07  252664.93  California  134307.35  128049.202655\n",
       "14  119943.24  156547.42  256512.92     Florida  132602.65  149827.450777\n",
       "15  114523.61  122616.84  261776.23    New York  129917.04  145769.611357\n",
       "16   78013.11  121597.55  264346.06  California  126992.93  117530.489091\n",
       "17   94657.16  145077.58  282574.31    New York  125370.37  130936.300519\n",
       "18   91749.16  114175.79  294919.57     Florida  124266.90  129020.306206\n",
       "19   86419.70  153514.11       0.00    New York  122776.86  116793.710748\n",
       "20   76253.86  113867.30  298664.47  California  118474.03  117108.281313\n",
       "21   78389.47  153773.43  299737.29    New York  111313.02  118793.642939\n",
       "22   73994.56  122782.75  303319.26     Florida  110352.25  115484.209637\n",
       "23   67532.53  105751.03  304768.73     Florida  108733.99  110513.437292\n",
       "24   77044.01   99281.34  140574.81    New York  108552.04  113382.099441\n",
       "25   64664.71  139553.16  137962.62  California  107404.34  103711.697086\n",
       "26   75328.87  144135.98  134050.07     Florida  105733.54  111873.132740\n",
       "27   72107.60  127864.55  353183.81    New York  105008.31  115389.649335\n",
       "28   66051.52  182645.56  118148.20     Florida  103282.38  104243.190309\n",
       "29   65605.48  153032.06  107138.38    New York  101004.64  103595.167960\n",
       "30   61994.48  115641.28   91131.24     Florida   99937.59  100355.932697\n",
       "31   61136.38  152701.92   88218.23    New York   97483.56   99610.626757\n",
       "32   63408.86  129219.61   46085.25  California   97427.84  100216.309933\n",
       "33   55493.95  103057.49  214634.81     Florida   96778.92   98705.145163\n",
       "34   46426.07  157693.92  210797.67  California   96712.80   91568.745065\n",
       "35   46014.02   85047.44  205517.64    New York   96479.51   91104.335025\n",
       "36   28663.76  127056.21  201126.82     Florida   90708.19   77530.715090\n",
       "37   44069.95   51283.14  197029.42  California   89949.14   89363.970985\n",
       "38   20229.59   65947.93  185265.10    New York   81229.06   70555.662763\n",
       "39   38558.51   82982.09  174999.30  California   81005.76   84485.861451\n",
       "40   28754.33  118546.05  172795.67  California   78239.91   76823.378730\n",
       "41   27892.92   84710.77  164470.71     Florida   77798.83   75926.972539\n",
       "42   23640.93   96189.63  148001.11  California   71498.49   72178.031523\n",
       "43   15505.73  127382.30   35534.17    New York   69758.98   62783.416125\n",
       "44   22177.74  154806.14   28334.72  California   65200.33   67759.192437\n",
       "45    1000.23  124153.04    1903.93    New York   64926.08   50613.086380\n",
       "46    1315.46  115816.21  297114.46     Florida   49490.75   58959.714353\n",
       "47       0.00  135426.92       0.00  California   42559.73   49785.269847\n",
       "48     542.05   51743.15       0.00    New York   35673.41   50205.566671"
      ]
     },
     "execution_count": 64,
     "metadata": {},
     "output_type": "execute_result"
    }
   ],
   "source": [
    "df.join(y_pred) "
   ]
  },
  {
   "cell_type": "markdown",
   "id": "52f14639",
   "metadata": {},
   "source": [
    "Prediction on new data"
   ]
  },
  {
   "cell_type": "code",
   "execution_count": 65,
   "id": "74ee2b84",
   "metadata": {
    "ExecuteTime": {
     "end_time": "2022-10-23T10:18:06.116624Z",
     "start_time": "2022-10-23T10:18:06.102850Z"
    }
   },
   "outputs": [],
   "source": [
    "new_data=pd.DataFrame({\"RnD\":50000, \"admin\":10000, \"marketing\":25000,\"state\":\"California\"},index=[1] ) "
   ]
  },
  {
   "cell_type": "code",
   "execution_count": 66,
   "id": "5cdc650f",
   "metadata": {
    "ExecuteTime": {
     "end_time": "2022-10-23T10:18:06.144358Z",
     "start_time": "2022-10-23T10:18:06.116624Z"
    }
   },
   "outputs": [
    {
     "data": {
      "text/plain": [
       "1    89240.600805\n",
       "dtype: float64"
      ]
     },
     "execution_count": 66,
     "metadata": {},
     "output_type": "execute_result"
    }
   ],
   "source": [
    "final_model.predict(new_data) "
   ]
  },
  {
   "cell_type": "markdown",
   "id": "6c41cc57",
   "metadata": {},
   "source": [
    "# Thank You"
   ]
  }
 ],
 "metadata": {
  "kernelspec": {
   "display_name": "Python 3 (ipykernel)",
   "language": "python",
   "name": "python3"
  },
  "language_info": {
   "codemirror_mode": {
    "name": "ipython",
    "version": 3
   },
   "file_extension": ".py",
   "mimetype": "text/x-python",
   "name": "python",
   "nbconvert_exporter": "python",
   "pygments_lexer": "ipython3",
   "version": "3.9.12"
  }
 },
 "nbformat": 4,
 "nbformat_minor": 5
}
